{
 "cells": [
  {
   "cell_type": "markdown",
   "metadata": {},
   "source": [
    "## Map Mutations to 3D Structures in the Protein Data Bank"
   ]
  },
  {
   "cell_type": "code",
   "execution_count": 74,
   "metadata": {},
   "outputs": [
    {
     "data": {
      "text/html": [
       "\n",
       "<style>\n",
       "    div#notebook-container    { width: 95%; }\n",
       "    div#menubar-container     { width: 65%; }\n",
       "    div#maintoolbar-container { width: 99%; }\n",
       "</style>\n"
      ],
      "text/plain": [
       "<IPython.core.display.HTML object>"
      ]
     },
     "metadata": {},
     "output_type": "display_data"
    }
   ],
   "source": [
    "import numpy as np\n",
    "from pyspark.sql import SparkSession\n",
    "from mmtfPyspark.datasets import g2sDataset, pdbjMineDataset, pdbToUniProt\n",
    "from ipywidgets import interact, IntSlider\n",
    "import py3Dmol\n",
    "import pandas as pd\n",
    "pd.set_option('display.max_columns', None)  # show all columns\n",
    "pd.set_option('display.max_columns', None)\n",
    "\n",
    "from IPython.display import display, HTML\n",
    "\n",
    "display(HTML(data=\"\"\"\n",
    "<style>\n",
    "    div#notebook-container    { width: 95%; }\n",
    "    div#menubar-container     { width: 65%; }\n",
    "    div#maintoolbar-container { width: 99%; }\n",
    "</style>\n",
    "\"\"\"))"
   ]
  },
  {
   "cell_type": "code",
   "execution_count": 2,
   "metadata": {},
   "outputs": [],
   "source": [
    "# Initialize Spark\n",
    "spark = SparkSession.builder.master(\"local[4]\").appName(\"2-Map-to-3D\").getOrCreate()"
   ]
  },
  {
   "cell_type": "markdown",
   "metadata": {},
   "source": [
    "#### input parameters"
   ]
  },
  {
   "cell_type": "code",
   "execution_count": 3,
   "metadata": {},
   "outputs": [],
   "source": [
    "distance_cutoff = 8 # distance cutoff for visualizing interactions"
   ]
  },
  {
   "cell_type": "code",
   "execution_count": 4,
   "metadata": {},
   "outputs": [],
   "source": [
    "input_file_name = '../analysis/NRF2_pathway/dataframes/step1/mutations_NRF2v2_step1.csv' # contains mutation info in standard format (e.g., chr5:g.149440497C>T)\n",
    "input_file_name2 = '../analysis/NRF2_pathway/dataframes/step1/mutations_NRF2v2_step1_detailed.csv' # contains depmap details of mutation file\n",
    "\n",
    "output_file_name = '../analysis/NRF2_pathway/dataframes/step2/mutations_NRF2v2_step2A.csv' # mutations mapped to 3D protein structures\n",
    "coverage_output = '../dataframes/PDB/DF_PDB_coverage_all_human.csv' #Structural coverage of human proteins"
   ]
  },
  {
   "cell_type": "markdown",
   "metadata": {},
   "source": [
    "## Read 'mutations_NRF2v2_step1.csv' file created in the previous step"
   ]
  },
  {
   "cell_type": "code",
   "execution_count": 5,
   "metadata": {},
   "outputs": [],
   "source": [
    "df = pd.read_csv(input_file_name,index_col=0)\n",
    "var_ids = df['var_id'].tolist()\n"
   ]
  },
  {
   "cell_type": "markdown",
   "metadata": {},
   "source": [
    "## Create a list of the variants"
   ]
  },
  {
   "cell_type": "code",
   "execution_count": 6,
   "metadata": {},
   "outputs": [],
   "source": [
    "#pdb_map = g2sDataset.get_position_dataset(var_ids, ref_genome='hgvs-grch37').toPandas()\n",
    "pdb_map = g2sDataset.get_full_dataset(var_ids, ref_genome='hgvs-grch37').toPandas()"
   ]
  },
  {
   "cell_type": "markdown",
   "metadata": {},
   "source": [
    "## Filter PDB Chains"
   ]
  },
  {
   "cell_type": "markdown",
   "metadata": {},
   "source": [
    "### Filter by sequence identity to PDB sequence"
   ]
  },
  {
   "cell_type": "code",
   "execution_count": 7,
   "metadata": {},
   "outputs": [],
   "source": [
    "pdb_map['seqIdentity'] = pdb_map.identity/(pdb_map.seqTo - pdb_map.seqFrom + 1) * 100\n",
    "pdb_map = pdb_map[pdb_map.seqIdentity >= 98]"
   ]
  },
  {
   "cell_type": "markdown",
   "metadata": {},
   "source": [
    "### Filter by taxonomy (human)"
   ]
  },
  {
   "cell_type": "markdown",
   "metadata": {},
   "source": [
    "Here we use the SIFTS annotation provided by EBI to filter by taxonomy. To learn more about how to [retrieve SIFTS annotation](\n",
    "https://github.com/sbl-sdsc/mmtf-pyspark/blob/master/demos/datasets/SiftsDataDemo.ipynb)."
   ]
  },
  {
   "cell_type": "code",
   "execution_count": 8,
   "metadata": {},
   "outputs": [],
   "source": [
    "taxonomyQuery = \"SELECT * FROM sifts.pdb_chain_taxonomy WHERE sifts.pdb_chain_taxonomy.scientific_name = 'Homo sapiens'\"\n",
    "taxonomy = pdbjMineDataset.get_dataset(taxonomyQuery).toPandas()\n"
   ]
  },
  {
   "cell_type": "code",
   "execution_count": 109,
   "metadata": {},
   "outputs": [
    {
     "data": {
      "text/html": [
       "<div>\n",
       "<style scoped>\n",
       "    .dataframe tbody tr th:only-of-type {\n",
       "        vertical-align: middle;\n",
       "    }\n",
       "\n",
       "    .dataframe tbody tr th {\n",
       "        vertical-align: top;\n",
       "    }\n",
       "\n",
       "    .dataframe thead th {\n",
       "        text-align: right;\n",
       "    }\n",
       "</style>\n",
       "<table border=\"1\" class=\"dataframe\">\n",
       "  <thead>\n",
       "    <tr style=\"text-align: right;\">\n",
       "      <th></th>\n",
       "      <th>alignmentId</th>\n",
       "      <th>bitscore</th>\n",
       "      <th>chainId</th>\n",
       "      <th>error</th>\n",
       "      <th>evalue</th>\n",
       "      <th>exception</th>\n",
       "      <th>identity</th>\n",
       "      <th>identityPositive</th>\n",
       "      <th>message</th>\n",
       "      <th>midlineAlign</th>\n",
       "      <th>path</th>\n",
       "      <th>pdbAlign</th>\n",
       "      <th>pdbFrom</th>\n",
       "      <th>pdbId</th>\n",
       "      <th>pdbNo</th>\n",
       "      <th>pdbSeg</th>\n",
       "      <th>pdbTo</th>\n",
       "      <th>refGenome</th>\n",
       "      <th>residueMapping</th>\n",
       "      <th>segStart</th>\n",
       "      <th>seqAlign</th>\n",
       "      <th>seqFrom</th>\n",
       "      <th>seqId</th>\n",
       "      <th>seqTo</th>\n",
       "      <th>status</th>\n",
       "      <th>timestamp</th>\n",
       "      <th>updateDate</th>\n",
       "      <th>variationId</th>\n",
       "      <th>structureId</th>\n",
       "      <th>pdbPosition</th>\n",
       "      <th>pdbAminoAcid</th>\n",
       "      <th>seqIdentity</th>\n",
       "      <th>tax_id</th>\n",
       "      <th>scientific_name</th>\n",
       "      <th>structureChainId</th>\n",
       "    </tr>\n",
       "  </thead>\n",
       "  <tbody>\n",
       "    <tr>\n",
       "      <th>0</th>\n",
       "      <td>47955439</td>\n",
       "      <td>612.068</td>\n",
       "      <td>A</td>\n",
       "      <td>None</td>\n",
       "      <td>0</td>\n",
       "      <td>None</td>\n",
       "      <td>291.0</td>\n",
       "      <td>291.0</td>\n",
       "      <td>None</td>\n",
       "      <td>DTFVQHIKRHNIVLKRELGEGAFGKVFLAECYNL     KILVAVK...</td>\n",
       "      <td>None</td>\n",
       "      <td>DTFVQHIKRHNIVLKRELGEGAFGKVFLAECYNLXXXXXKILVAVK...</td>\n",
       "      <td>1</td>\n",
       "      <td>4at5</td>\n",
       "      <td>4at5_A_1</td>\n",
       "      <td>1</td>\n",
       "      <td>296</td>\n",
       "      <td>hgvs-grch37</td>\n",
       "      <td>[(C, 805, C, 805)]</td>\n",
       "      <td>543</td>\n",
       "      <td>DTFVQHIKRHNIVLKRELGEGAFGKVFLAECYNLCPEQDKILVAVK...</td>\n",
       "      <td>543</td>\n",
       "      <td>145778</td>\n",
       "      <td>838</td>\n",
       "      <td>None</td>\n",
       "      <td>None</td>\n",
       "      <td>2019-04-26</td>\n",
       "      <td>chr9:g.87636250C&gt;T</td>\n",
       "      <td>4AT5</td>\n",
       "      <td>805</td>\n",
       "      <td>C</td>\n",
       "      <td>98.310811</td>\n",
       "      <td>9606</td>\n",
       "      <td>Homo sapiens</td>\n",
       "      <td>4AT5.A</td>\n",
       "    </tr>\n",
       "    <tr>\n",
       "      <th>1</th>\n",
       "      <td>48147361</td>\n",
       "      <td>612.453</td>\n",
       "      <td>A</td>\n",
       "      <td>None</td>\n",
       "      <td>0</td>\n",
       "      <td>None</td>\n",
       "      <td>291.0</td>\n",
       "      <td>291.0</td>\n",
       "      <td>None</td>\n",
       "      <td>DTFVQHIKRHNIVLKRELGEGAFGKVFLAECYNL     KILVAVK...</td>\n",
       "      <td>None</td>\n",
       "      <td>DTFVQHIKRHNIVLKRELGEGAFGKVFLAECYNLXXXXXKILVAVK...</td>\n",
       "      <td>1</td>\n",
       "      <td>4at5</td>\n",
       "      <td>4at5_A_1</td>\n",
       "      <td>1</td>\n",
       "      <td>296</td>\n",
       "      <td>hgvs-grch37</td>\n",
       "      <td>[(C, 805, C, 789)]</td>\n",
       "      <td>543</td>\n",
       "      <td>DTFVQHIKRHNIVLKRELGEGAFGKVFLAECYNLCPEQDKILVAVK...</td>\n",
       "      <td>527</td>\n",
       "      <td>477721</td>\n",
       "      <td>822</td>\n",
       "      <td>None</td>\n",
       "      <td>None</td>\n",
       "      <td>2019-04-26</td>\n",
       "      <td>chr9:g.87636250C&gt;T</td>\n",
       "      <td>4AT5</td>\n",
       "      <td>805</td>\n",
       "      <td>C</td>\n",
       "      <td>98.310811</td>\n",
       "      <td>9606</td>\n",
       "      <td>Homo sapiens</td>\n",
       "      <td>4AT5.A</td>\n",
       "    </tr>\n",
       "  </tbody>\n",
       "</table>\n",
       "</div>"
      ],
      "text/plain": [
       "   alignmentId  bitscore chainId error evalue exception  identity  \\\n",
       "0     47955439   612.068       A  None      0      None     291.0   \n",
       "1     48147361   612.453       A  None      0      None     291.0   \n",
       "\n",
       "   identityPositive message  \\\n",
       "0             291.0    None   \n",
       "1             291.0    None   \n",
       "\n",
       "                                        midlineAlign  path  \\\n",
       "0  DTFVQHIKRHNIVLKRELGEGAFGKVFLAECYNL     KILVAVK...  None   \n",
       "1  DTFVQHIKRHNIVLKRELGEGAFGKVFLAECYNL     KILVAVK...  None   \n",
       "\n",
       "                                            pdbAlign  pdbFrom pdbId     pdbNo  \\\n",
       "0  DTFVQHIKRHNIVLKRELGEGAFGKVFLAECYNLXXXXXKILVAVK...        1  4at5  4at5_A_1   \n",
       "1  DTFVQHIKRHNIVLKRELGEGAFGKVFLAECYNLXXXXXKILVAVK...        1  4at5  4at5_A_1   \n",
       "\n",
       "  pdbSeg  pdbTo    refGenome      residueMapping segStart  \\\n",
       "0      1    296  hgvs-grch37  [(C, 805, C, 805)]      543   \n",
       "1      1    296  hgvs-grch37  [(C, 805, C, 789)]      543   \n",
       "\n",
       "                                            seqAlign  seqFrom   seqId  seqTo  \\\n",
       "0  DTFVQHIKRHNIVLKRELGEGAFGKVFLAECYNLCPEQDKILVAVK...      543  145778    838   \n",
       "1  DTFVQHIKRHNIVLKRELGEGAFGKVFLAECYNLCPEQDKILVAVK...      527  477721    822   \n",
       "\n",
       "  status timestamp  updateDate         variationId structureId pdbPosition  \\\n",
       "0   None      None  2019-04-26  chr9:g.87636250C>T        4AT5         805   \n",
       "1   None      None  2019-04-26  chr9:g.87636250C>T        4AT5         805   \n",
       "\n",
       "  pdbAminoAcid  seqIdentity  tax_id scientific_name structureChainId  \n",
       "0            C    98.310811    9606    Homo sapiens           4AT5.A  \n",
       "1            C    98.310811    9606    Homo sapiens           4AT5.A  "
      ]
     },
     "execution_count": 109,
     "metadata": {},
     "output_type": "execute_result"
    }
   ],
   "source": [
    "pdb_filtered = pdb_map.merge(taxonomy, left_on=['structureId','chainId'], right_on=['pdbid','chain'], how='inner')\n",
    "pdb_filtered = pdb_filtered.drop(['pdbid','chain'], axis=1)  # remove redundant columns\n",
    "pdb_filtered['pdbPosition'] = pdb_filtered['pdbPosition'].astype('str') # must be string\n",
    "pdb_filtered.head(2)"
   ]
  },
  {
   "cell_type": "code",
   "execution_count": 110,
   "metadata": {},
   "outputs": [],
   "source": [
    "chains = set(pdb_filtered.structureChainId)\n"
   ]
  },
  {
   "cell_type": "markdown",
   "metadata": {},
   "source": [
    "## Get PDB to UniProt Residue Mappings"
   ]
  },
  {
   "cell_type": "markdown",
   "metadata": {},
   "source": [
    "Download PDB to UniProt mappings and filter out residues that were not observed in the 3D structure."
   ]
  },
  {
   "cell_type": "code",
   "execution_count": 111,
   "metadata": {},
   "outputs": [],
   "source": [
    "up = pdbToUniProt.get_cached_residue_mappings().filter(\"pdbResNum IS NOT NULL\").filter(\"uniprotNum IS NOT NULL\")\n",
    "up_map = up.filter(up.structureChainId.isin(chains)).toPandas()\n",
    "up_map['uniprotNum'] = up_map.uniprotNum.astype('int') "
   ]
  },
  {
   "cell_type": "code",
   "execution_count": 60,
   "metadata": {},
   "outputs": [],
   "source": [
    "pdb_filtered = pdb_filtered.merge(up_map, left_on=['structureChainId','pdbPosition'], right_on=['structureChainId','pdbResNum'], how='inner')"
   ]
  },
  {
   "cell_type": "code",
   "execution_count": 61,
   "metadata": {},
   "outputs": [
    {
     "data": {
      "text/html": [
       "<div>\n",
       "<style scoped>\n",
       "    .dataframe tbody tr th:only-of-type {\n",
       "        vertical-align: middle;\n",
       "    }\n",
       "\n",
       "    .dataframe tbody tr th {\n",
       "        vertical-align: top;\n",
       "    }\n",
       "\n",
       "    .dataframe thead th {\n",
       "        text-align: right;\n",
       "    }\n",
       "</style>\n",
       "<table border=\"1\" class=\"dataframe\">\n",
       "  <thead>\n",
       "    <tr style=\"text-align: right;\">\n",
       "      <th></th>\n",
       "      <th>alignmentId</th>\n",
       "      <th>bitscore</th>\n",
       "      <th>chainId</th>\n",
       "      <th>error</th>\n",
       "      <th>evalue</th>\n",
       "      <th>exception</th>\n",
       "      <th>identity</th>\n",
       "      <th>identityPositive</th>\n",
       "      <th>message</th>\n",
       "      <th>midlineAlign</th>\n",
       "      <th>path</th>\n",
       "      <th>pdbAlign</th>\n",
       "      <th>pdbFrom</th>\n",
       "      <th>pdbId</th>\n",
       "      <th>pdbNo</th>\n",
       "      <th>pdbSeg</th>\n",
       "      <th>pdbTo</th>\n",
       "      <th>refGenome</th>\n",
       "      <th>residueMapping</th>\n",
       "      <th>segStart</th>\n",
       "      <th>seqAlign</th>\n",
       "      <th>seqFrom</th>\n",
       "      <th>seqId</th>\n",
       "      <th>seqTo</th>\n",
       "      <th>status</th>\n",
       "      <th>timestamp</th>\n",
       "      <th>updateDate</th>\n",
       "      <th>variationId</th>\n",
       "      <th>structureId</th>\n",
       "      <th>pdbPosition</th>\n",
       "      <th>pdbAminoAcid</th>\n",
       "      <th>seqIdentity</th>\n",
       "      <th>tax_id</th>\n",
       "      <th>scientific_name</th>\n",
       "      <th>structureChainId</th>\n",
       "      <th>pdbResNum</th>\n",
       "      <th>pdbSeqNum</th>\n",
       "      <th>uniprotId</th>\n",
       "      <th>uniprotNum</th>\n",
       "    </tr>\n",
       "  </thead>\n",
       "  <tbody>\n",
       "    <tr>\n",
       "      <th>0</th>\n",
       "      <td>47955439</td>\n",
       "      <td>612.068</td>\n",
       "      <td>A</td>\n",
       "      <td>None</td>\n",
       "      <td>0</td>\n",
       "      <td>None</td>\n",
       "      <td>291.0</td>\n",
       "      <td>291.0</td>\n",
       "      <td>None</td>\n",
       "      <td>DTFVQHIKRHNIVLKRELGEGAFGKVFLAECYNL     KILVAVK...</td>\n",
       "      <td>None</td>\n",
       "      <td>DTFVQHIKRHNIVLKRELGEGAFGKVFLAECYNLXXXXXKILVAVK...</td>\n",
       "      <td>1</td>\n",
       "      <td>4at5</td>\n",
       "      <td>4at5_A_1</td>\n",
       "      <td>1</td>\n",
       "      <td>296</td>\n",
       "      <td>hgvs-grch37</td>\n",
       "      <td>[(C, 805, C, 805)]</td>\n",
       "      <td>543</td>\n",
       "      <td>DTFVQHIKRHNIVLKRELGEGAFGKVFLAECYNLCPEQDKILVAVK...</td>\n",
       "      <td>543</td>\n",
       "      <td>145778</td>\n",
       "      <td>838</td>\n",
       "      <td>None</td>\n",
       "      <td>None</td>\n",
       "      <td>2019-04-26</td>\n",
       "      <td>chr9:g.87636250C&gt;T</td>\n",
       "      <td>4AT5</td>\n",
       "      <td>805</td>\n",
       "      <td>C</td>\n",
       "      <td>98.310811</td>\n",
       "      <td>9606</td>\n",
       "      <td>Homo sapiens</td>\n",
       "      <td>4AT5.A</td>\n",
       "      <td>805</td>\n",
       "      <td>266</td>\n",
       "      <td>Q16620</td>\n",
       "      <td>789</td>\n",
       "    </tr>\n",
       "    <tr>\n",
       "      <th>1</th>\n",
       "      <td>48147361</td>\n",
       "      <td>612.453</td>\n",
       "      <td>A</td>\n",
       "      <td>None</td>\n",
       "      <td>0</td>\n",
       "      <td>None</td>\n",
       "      <td>291.0</td>\n",
       "      <td>291.0</td>\n",
       "      <td>None</td>\n",
       "      <td>DTFVQHIKRHNIVLKRELGEGAFGKVFLAECYNL     KILVAVK...</td>\n",
       "      <td>None</td>\n",
       "      <td>DTFVQHIKRHNIVLKRELGEGAFGKVFLAECYNLXXXXXKILVAVK...</td>\n",
       "      <td>1</td>\n",
       "      <td>4at5</td>\n",
       "      <td>4at5_A_1</td>\n",
       "      <td>1</td>\n",
       "      <td>296</td>\n",
       "      <td>hgvs-grch37</td>\n",
       "      <td>[(C, 805, C, 789)]</td>\n",
       "      <td>543</td>\n",
       "      <td>DTFVQHIKRHNIVLKRELGEGAFGKVFLAECYNLCPEQDKILVAVK...</td>\n",
       "      <td>527</td>\n",
       "      <td>477721</td>\n",
       "      <td>822</td>\n",
       "      <td>None</td>\n",
       "      <td>None</td>\n",
       "      <td>2019-04-26</td>\n",
       "      <td>chr9:g.87636250C&gt;T</td>\n",
       "      <td>4AT5</td>\n",
       "      <td>805</td>\n",
       "      <td>C</td>\n",
       "      <td>98.310811</td>\n",
       "      <td>9606</td>\n",
       "      <td>Homo sapiens</td>\n",
       "      <td>4AT5.A</td>\n",
       "      <td>805</td>\n",
       "      <td>266</td>\n",
       "      <td>Q16620</td>\n",
       "      <td>789</td>\n",
       "    </tr>\n",
       "  </tbody>\n",
       "</table>\n",
       "</div>"
      ],
      "text/plain": [
       "   alignmentId  bitscore chainId error evalue exception  identity  \\\n",
       "0     47955439   612.068       A  None      0      None     291.0   \n",
       "1     48147361   612.453       A  None      0      None     291.0   \n",
       "\n",
       "   identityPositive message  \\\n",
       "0             291.0    None   \n",
       "1             291.0    None   \n",
       "\n",
       "                                        midlineAlign  path  \\\n",
       "0  DTFVQHIKRHNIVLKRELGEGAFGKVFLAECYNL     KILVAVK...  None   \n",
       "1  DTFVQHIKRHNIVLKRELGEGAFGKVFLAECYNL     KILVAVK...  None   \n",
       "\n",
       "                                            pdbAlign  pdbFrom pdbId     pdbNo  \\\n",
       "0  DTFVQHIKRHNIVLKRELGEGAFGKVFLAECYNLXXXXXKILVAVK...        1  4at5  4at5_A_1   \n",
       "1  DTFVQHIKRHNIVLKRELGEGAFGKVFLAECYNLXXXXXKILVAVK...        1  4at5  4at5_A_1   \n",
       "\n",
       "  pdbSeg  pdbTo    refGenome      residueMapping segStart  \\\n",
       "0      1    296  hgvs-grch37  [(C, 805, C, 805)]      543   \n",
       "1      1    296  hgvs-grch37  [(C, 805, C, 789)]      543   \n",
       "\n",
       "                                            seqAlign  seqFrom   seqId  seqTo  \\\n",
       "0  DTFVQHIKRHNIVLKRELGEGAFGKVFLAECYNLCPEQDKILVAVK...      543  145778    838   \n",
       "1  DTFVQHIKRHNIVLKRELGEGAFGKVFLAECYNLCPEQDKILVAVK...      527  477721    822   \n",
       "\n",
       "  status timestamp  updateDate         variationId structureId pdbPosition  \\\n",
       "0   None      None  2019-04-26  chr9:g.87636250C>T        4AT5         805   \n",
       "1   None      None  2019-04-26  chr9:g.87636250C>T        4AT5         805   \n",
       "\n",
       "  pdbAminoAcid  seqIdentity  tax_id scientific_name structureChainId  \\\n",
       "0            C    98.310811    9606    Homo sapiens           4AT5.A   \n",
       "1            C    98.310811    9606    Homo sapiens           4AT5.A   \n",
       "\n",
       "  pdbResNum  pdbSeqNum uniprotId  uniprotNum  \n",
       "0       805        266    Q16620         789  \n",
       "1       805        266    Q16620         789  "
      ]
     },
     "execution_count": 61,
     "metadata": {},
     "output_type": "execute_result"
    }
   ],
   "source": [
    "pdb_filtered.head(2)"
   ]
  },
  {
   "cell_type": "markdown",
   "metadata": {},
   "source": [
    "#### Re-merge DepMap details with PDB filtered data"
   ]
  },
  {
   "cell_type": "code",
   "execution_count": 13,
   "metadata": {},
   "outputs": [],
   "source": [
    "depmap = pd.read_csv(input_file_name2,index_col=0)"
   ]
  },
  {
   "cell_type": "code",
   "execution_count": 23,
   "metadata": {},
   "outputs": [],
   "source": [
    "aa = []\n",
    "for i in depmap.Protein_Change:\n",
    "    if pd.notnull(i):\n",
    "        aa.append(i.split('.')[1][0])\n",
    "    else:\n",
    "        aa.append('')\n",
    "depmap['Protein_Change_AA'] = aa"
   ]
  },
  {
   "cell_type": "code",
   "execution_count": 62,
   "metadata": {},
   "outputs": [],
   "source": [
    "columns = ['variationId','pdbId','structureChainId','pdbPosition','pdbAminoAcid','pdbResNum','uniprotId','seqAlign']\n",
    "\n",
    "pdb_filtered = pdb_filtered[columns].merge(depmap,left_on='variationId',right_on='var_id')"
   ]
  },
  {
   "cell_type": "raw",
   "metadata": {},
   "source": [
    "#### TO DO: check whether a better filter can be used. Right now we only take cases where the amino acid is the same as the one from the sequence"
   ]
  },
  {
   "cell_type": "code",
   "execution_count": 88,
   "metadata": {
    "scrolled": true
   },
   "outputs": [
    {
     "name": "stdout",
     "output_type": "stream",
     "text": [
      "removing 3 unique variants, and is 0.31 percent of the total dataframe, as amino acids differ\n"
     ]
    }
   ],
   "source": [
    "ind_remove = pdb_filtered.query('pdbAminoAcid != Protein_Change_AA').index\n",
    "\n",
    "tmp = pdb_filtered[['variationId','structureChainId','pdbAminoAcid','Protein_Change_AA','pdbResNum','Protein_Change']].drop_duplicates()\n",
    "tmp2 = tmp.query('pdbAminoAcid != Protein_Change_AA')\n",
    "tmp3 = tmp.query('pdbAminoAcid == Protein_Change_AA')\n",
    "a = len(tmp2[~tmp2.variationId.isin(tmp3.variationId)].variationId.unique())\n",
    "b = np.true_divide((len(tmp2)),(len(tmp)))\n",
    "print(\"removing %s unique variants, and is %s percent of the total dataframe, as amino acids differ\"%(str(a),str(np.round(b,2))))\n",
    "\n",
    "\n",
    "pdb_filtered.drop(index=ind_remove,inplace=True)"
   ]
  },
  {
   "cell_type": "code",
   "execution_count": 91,
   "metadata": {},
   "outputs": [
    {
     "data": {
      "text/plain": [
       "array(['160'], dtype=object)"
      ]
     },
     "execution_count": 91,
     "metadata": {},
     "output_type": "execute_result"
    }
   ],
   "source": [
    "pdb_filtered[(pdb_filtered.structureChainId=='3QFB.A')&(pdb_filtered.variationId=='chr12:g.104713303C>T')].pdbResNum.unique()"
   ]
  },
  {
   "cell_type": "markdown",
   "metadata": {},
   "source": [
    "## Get Sequence Coverage Data from UniProt"
   ]
  },
  {
   "cell_type": "markdown",
   "metadata": {},
   "source": [
    "UniProt id, preferred gene name, and sequence length (see column names for RESTful web services: https://www.uniprot.org/help/uniprotkb_column_names)."
   ]
  },
  {
   "cell_type": "code",
   "execution_count": 92,
   "metadata": {},
   "outputs": [],
   "source": [
    "taxonomy_id = 9606\n",
    "columns = 'id,genes(PREFERRED),length'"
   ]
  },
  {
   "cell_type": "code",
   "execution_count": 93,
   "metadata": {},
   "outputs": [],
   "source": [
    "url = f'https://www.uniprot.org/uniprot/?query=organism:{taxonomy_id}&columns={columns}&format=tab'"
   ]
  },
  {
   "cell_type": "code",
   "execution_count": 94,
   "metadata": {},
   "outputs": [
    {
     "data": {
      "text/html": [
       "<div>\n",
       "<style scoped>\n",
       "    .dataframe tbody tr th:only-of-type {\n",
       "        vertical-align: middle;\n",
       "    }\n",
       "\n",
       "    .dataframe tbody tr th {\n",
       "        vertical-align: top;\n",
       "    }\n",
       "\n",
       "    .dataframe thead th {\n",
       "        text-align: right;\n",
       "    }\n",
       "</style>\n",
       "<table border=\"1\" class=\"dataframe\">\n",
       "  <thead>\n",
       "    <tr style=\"text-align: right;\">\n",
       "      <th></th>\n",
       "      <th>Entry</th>\n",
       "      <th>GENE</th>\n",
       "      <th>Length</th>\n",
       "    </tr>\n",
       "  </thead>\n",
       "  <tbody>\n",
       "    <tr>\n",
       "      <th>0</th>\n",
       "      <td>Q6ZS62</td>\n",
       "      <td>COLCA1</td>\n",
       "      <td>124</td>\n",
       "    </tr>\n",
       "    <tr>\n",
       "      <th>1</th>\n",
       "      <td>P14384</td>\n",
       "      <td>CPM</td>\n",
       "      <td>443</td>\n",
       "    </tr>\n",
       "  </tbody>\n",
       "</table>\n",
       "</div>"
      ],
      "text/plain": [
       "    Entry    GENE  Length\n",
       "0  Q6ZS62  COLCA1     124\n",
       "1  P14384     CPM     443"
      ]
     },
     "execution_count": 94,
     "metadata": {},
     "output_type": "execute_result"
    }
   ],
   "source": [
    "unp = pd.read_csv(url, sep='\\t')\n",
    "unp.rename(columns={'Gene names  (primary )': 'GENE'}, inplace=True)  ## create name without spaces\n",
    "unp.head(2)"
   ]
  },
  {
   "cell_type": "code",
   "execution_count": 95,
   "metadata": {},
   "outputs": [
    {
     "name": "stdout",
     "output_type": "stream",
     "text": [
      "Unique proteins:  173199 for organism: 9606\n",
      "Unique genes   :  26528 for organism: 9606\n"
     ]
    }
   ],
   "source": [
    "print('Unique proteins: ', len(unp['Entry'].unique()), 'for organism:', taxonomy_id)\n",
    "print('Unique genes   : ', len(unp['GENE'].unique()), 'for organism:', taxonomy_id)"
   ]
  },
  {
   "cell_type": "markdown",
   "metadata": {},
   "source": [
    "### Get UniProt segments covered by PDB residues"
   ]
  },
  {
   "cell_type": "markdown",
   "metadata": {},
   "source": [
    "Get continuous segments of the UniProt sequence covered by PDB residues from EBI SIFTS project (https://www.ebi.ac.uk/pdbe/docs/sifts/)"
   ]
  },
  {
   "cell_type": "code",
   "execution_count": 96,
   "metadata": {},
   "outputs": [],
   "source": [
    "sifts_url = 'http://ftp.ebi.ac.uk/pub/databases/msd/sifts/flatfiles/tsv/uniprot_segments_observed.tsv.gz'"
   ]
  },
  {
   "cell_type": "code",
   "execution_count": 97,
   "metadata": {},
   "outputs": [],
   "source": [
    "segments = pd.read_csv(sifts_url, sep='\\t', skiprows=1)"
   ]
  },
  {
   "cell_type": "markdown",
   "metadata": {},
   "source": [
    "Calculate length of each continuous segment. A chain may have one or more segments."
   ]
  },
  {
   "cell_type": "code",
   "execution_count": 98,
   "metadata": {},
   "outputs": [],
   "source": [
    "segments['SEG_LENGTH'] = segments['SP_END'] - segments['SP_BEG'] + 1"
   ]
  },
  {
   "cell_type": "markdown",
   "metadata": {},
   "source": [
    "Create a unique key for each chain. Use upper case for PDB IDs. Note, Chain IDs are case sensitive!"
   ]
  },
  {
   "cell_type": "code",
   "execution_count": 99,
   "metadata": {},
   "outputs": [],
   "source": [
    "segments['PDB_CHAIN_ID'] = segments['PDB'].str.upper()  + \".\" + segments['CHAIN']\n",
    "segments = segments[['PDB_CHAIN_ID','SP_PRIMARY','SP_BEG','SP_END','SEG_LENGTH']]"
   ]
  },
  {
   "cell_type": "markdown",
   "metadata": {},
   "source": [
    "### Calculate coverage from the intersection between the two dataframes"
   ]
  },
  {
   "cell_type": "code",
   "execution_count": 100,
   "metadata": {},
   "outputs": [],
   "source": [
    "coverage = segments.merge(unp, left_on=['SP_PRIMARY'], right_on=['Entry'])"
   ]
  },
  {
   "cell_type": "markdown",
   "metadata": {},
   "source": [
    "Calculate coverage per segment"
   ]
  },
  {
   "cell_type": "code",
   "execution_count": 101,
   "metadata": {},
   "outputs": [],
   "source": [
    "coverage['coverage'] = coverage['SEG_LENGTH'] / coverage['Length']"
   ]
  },
  {
   "cell_type": "markdown",
   "metadata": {},
   "source": [
    "Calculate coverage per PDB chain"
   ]
  },
  {
   "cell_type": "code",
   "execution_count": 102,
   "metadata": {},
   "outputs": [],
   "source": [
    "chain_cov = coverage.groupby(['PDB_CHAIN_ID','SP_PRIMARY','GENE']).sum()[['coverage']]\n",
    "chain_cov = chain_cov[(chain_cov['coverage'] <= 1.0)]  # there are a few cases where coverage > 1 (e.g., P69905, P01579, Q15848)\n",
    "chain_cov = chain_cov.reset_index()  # convert grouped dataframe to a regular dataframe\n"
   ]
  },
  {
   "cell_type": "code",
   "execution_count": 103,
   "metadata": {},
   "outputs": [
    {
     "name": "stdout",
     "output_type": "stream",
     "text": [
      "Unique chains    : 100277\n",
      "Unique proteins  : 6742\n",
      "Unique genes     : 6633\n",
      "Average coverage : 0.5511119230799677\n",
      "Median coverage  : 0.5898617511520737\n"
     ]
    }
   ],
   "source": [
    "print('Unique chains    :', chain_cov.shape[0])\n",
    "print('Unique proteins  :', len(chain_cov['SP_PRIMARY'].unique()))\n",
    "print('Unique genes     :', len(chain_cov['GENE'].unique()))\n",
    "print('Average coverage :', chain_cov['coverage'].mean())\n",
    "print('Median coverage  :', chain_cov['coverage'].median())"
   ]
  },
  {
   "cell_type": "code",
   "execution_count": 104,
   "metadata": {},
   "outputs": [
    {
     "data": {
      "text/html": [
       "<div>\n",
       "<style scoped>\n",
       "    .dataframe tbody tr th:only-of-type {\n",
       "        vertical-align: middle;\n",
       "    }\n",
       "\n",
       "    .dataframe tbody tr th {\n",
       "        vertical-align: top;\n",
       "    }\n",
       "\n",
       "    .dataframe thead th {\n",
       "        text-align: right;\n",
       "    }\n",
       "</style>\n",
       "<table border=\"1\" class=\"dataframe\">\n",
       "  <thead>\n",
       "    <tr style=\"text-align: right;\">\n",
       "      <th></th>\n",
       "      <th>PDB_CHAIN_ID</th>\n",
       "      <th>SP_PRIMARY</th>\n",
       "      <th>GENE</th>\n",
       "      <th>coverage</th>\n",
       "    </tr>\n",
       "  </thead>\n",
       "  <tbody>\n",
       "    <tr>\n",
       "      <th>61854</th>\n",
       "      <td>4Z94.G</td>\n",
       "      <td>P06396</td>\n",
       "      <td>GSN</td>\n",
       "      <td>0.159847</td>\n",
       "    </tr>\n",
       "    <tr>\n",
       "      <th>61855</th>\n",
       "      <td>4Z94.G</td>\n",
       "      <td>P28289</td>\n",
       "      <td>TMOD1</td>\n",
       "      <td>0.164345</td>\n",
       "    </tr>\n",
       "    <tr>\n",
       "      <th>61856</th>\n",
       "      <td>4Z94.G</td>\n",
       "      <td>P29536</td>\n",
       "      <td>LMOD1</td>\n",
       "      <td>0.203333</td>\n",
       "    </tr>\n",
       "  </tbody>\n",
       "</table>\n",
       "</div>"
      ],
      "text/plain": [
       "      PDB_CHAIN_ID SP_PRIMARY   GENE  coverage\n",
       "61854       4Z94.G     P06396    GSN  0.159847\n",
       "61855       4Z94.G     P28289  TMOD1  0.164345\n",
       "61856       4Z94.G     P29536  LMOD1  0.203333"
      ]
     },
     "execution_count": 104,
     "metadata": {},
     "output_type": "execute_result"
    }
   ],
   "source": [
    "chain_cov[chain_cov['PDB_CHAIN_ID']=='4Z94.G']"
   ]
  },
  {
   "cell_type": "markdown",
   "metadata": {},
   "source": [
    "## Save mappings"
   ]
  },
  {
   "cell_type": "code",
   "execution_count": 105,
   "metadata": {},
   "outputs": [],
   "source": [
    "pdb_filtered.to_csv(output_file_name, index=False)"
   ]
  },
  {
   "cell_type": "code",
   "execution_count": 106,
   "metadata": {},
   "outputs": [],
   "source": [
    "chain_cov.to_csv(coverage_output, index=False)"
   ]
  },
  {
   "cell_type": "code",
   "execution_count": 107,
   "metadata": {},
   "outputs": [],
   "source": [
    "# Shutdown Spark\n",
    "spark.stop()"
   ]
  },
  {
   "cell_type": "code",
   "execution_count": null,
   "metadata": {},
   "outputs": [],
   "source": []
  }
 ],
 "metadata": {
  "kernelspec": {
   "display_name": "Python 3",
   "language": "python",
   "name": "python3"
  },
  "language_info": {
   "codemirror_mode": {
    "name": "ipython",
    "version": 3
   },
   "file_extension": ".py",
   "mimetype": "text/x-python",
   "name": "python",
   "nbconvert_exporter": "python",
   "pygments_lexer": "ipython3",
   "version": "3.7.3"
  }
 },
 "nbformat": 4,
 "nbformat_minor": 2
}
