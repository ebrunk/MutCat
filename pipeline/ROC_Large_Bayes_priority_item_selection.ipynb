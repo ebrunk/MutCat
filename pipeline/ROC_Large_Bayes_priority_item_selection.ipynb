{
 "cells": [
  {
   "cell_type": "code",
   "execution_count": 1,
   "metadata": {},
   "outputs": [
    {
     "data": {
      "text/html": [
       "        <script type=\"text/javascript\">\n",
       "        window.PlotlyConfig = {MathJaxConfig: 'local'};\n",
       "        if (window.MathJax) {MathJax.Hub.Config({SVG: {font: \"STIX-Web\"}});}\n",
       "        if (typeof require !== 'undefined') {\n",
       "        require.undef(\"plotly\");\n",
       "        requirejs.config({\n",
       "            paths: {\n",
       "                'plotly': ['https://cdn.plot.ly/plotly-latest.min']\n",
       "            }\n",
       "        });\n",
       "        require(['plotly'], function(Plotly) {\n",
       "            window._Plotly = Plotly;\n",
       "        });\n",
       "        }\n",
       "        </script>\n",
       "        "
      ]
     },
     "metadata": {},
     "output_type": "display_data"
    },
    {
     "data": {
      "text/html": [
       "\n",
       "<style>\n",
       "    div#notebook-container    { width: 95%; }\n",
       "    div#menubar-container     { width: 65%; }\n",
       "    div#maintoolbar-container { width: 99%; }\n",
       "</style>\n"
      ],
      "text/plain": [
       "<IPython.core.display.HTML object>"
      ]
     },
     "metadata": {},
     "output_type": "display_data"
    }
   ],
   "source": [
    "from scipy.cluster.hierarchy import dendrogram, linkage  \n",
    "from scipy.cluster.hierarchy import fcluster\n",
    "from scipy.cluster.hierarchy import cophenet\n",
    "from scipy.spatial.distance import pdist\n",
    "\n",
    "import os\n",
    "import numpy as np\n",
    "from copy import deepcopy\n",
    "import py3Dmol\n",
    "from ipywidgets import interact, IntSlider\n",
    "import pandas as pd\n",
    "pd.set_option('display.expand_frame_repr', False)\n",
    "pd.set_option('display.max_columns', 500)\n",
    "\n",
    "import plotly as pl\n",
    "import matplotlib.pyplot as plt\n",
    "from matplotlib import interactive\n",
    "interactive(True)\n",
    "import seaborn as sns\n",
    "sns.set(style=\"whitegrid\")\n",
    "\n",
    "import ast\n",
    "import math\n",
    "import random as random\n",
    "import copy\n",
    "np.random.seed(7678)\n",
    "from sklearn.metrics import auc, roc_curve\n",
    "\n",
    "import warnings\n",
    "warnings.filterwarnings('ignore')\n",
    "from IPython.display import clear_output\n",
    "\n",
    "pl.offline.init_notebook_mode(connected=True)\n",
    "\n",
    "\n",
    "from IPython.display import display, HTML\n",
    "\n",
    "display(HTML(data=\"\"\"\n",
    "<style>\n",
    "    div#notebook-container    { width: 95%; }\n",
    "    div#menubar-container     { width: 65%; }\n",
    "    div#maintoolbar-container { width: 99%; }\n",
    "</style>\n",
    "\"\"\"))"
   ]
  },
  {
   "cell_type": "code",
   "execution_count": 2,
   "metadata": {},
   "outputs": [],
   "source": [
    "import sys\n",
    "sys.path.insert(0, '../MutCat/')\n",
    "#import ccal # Original repository is in https://github.com/UCSD-CCAL/ccal\n",
    "#from ancillary_v1_0 import *"
   ]
  },
  {
   "cell_type": "code",
   "execution_count": 3,
   "metadata": {},
   "outputs": [],
   "source": [
    "CCLE_pathways = pd.read_table('/home/ebc/variome/CT2/ccal_PT/Inference/data/CCLE_19Q3/CCLE_expression.PATHWAYS.c2_c5_h.gct',sep='\\t', skiprows=2,index_col=0).drop('Description',1)\n",
    "\n",
    "sig = CCLE_pathways.loc['SINGH_NFE2L2_TARGETS',:].sort_values(ascending = False)\n",
    "sig_mean = sig.mean()\n",
    "sig_std = sig.std()\n",
    "\n",
    "sig_Act = pd.Series(np.where(sig >= sig_mean + sig_std, 1, 0), \n",
    "                     index = sig.index, name='Active_sample')\n",
    "\n",
    "sig_Null = pd.Series(np.where(sig < sig_mean - sig_std, 1, 0), \n",
    "                     index = sig.index, name='Unactive_sample')\n",
    "\n",
    "del CCLE_pathways"
   ]
  },
  {
   "cell_type": "code",
   "execution_count": 4,
   "metadata": {},
   "outputs": [],
   "source": [
    "DF_CCLE = pd.read_csv('/media/ebc/F47A-25A8/PDBMap_Backup/CCLE/XYZ/GW_Full_Gene_XYZ.csv',index_col=0)"
   ]
  },
  {
   "cell_type": "code",
   "execution_count": 5,
   "metadata": {},
   "outputs": [],
   "source": [
    "DF_prob_map = pd.read_csv('~/variome/GIT/MutCat/analysis/NRF2/dataframes/GW/DF_Prob_cluster_size_gt_2_MAP_TO_TUMORBARCODE.csv',index_col=0)\n",
    "DF_Prob_All_dist = pd.read_csv('~/variome/GIT/MutCat/analysis/NRF2/dataframes/GW/DF_Prob_cluster_size_gt_2_MAP_TO_CLUSTERING.csv',index_col=0)"
   ]
  },
  {
   "cell_type": "code",
   "execution_count": 6,
   "metadata": {},
   "outputs": [],
   "source": [
    "ROC_thres = 0.5\n",
    "sig_thres = sig.mean()+sig.std()\n",
    "ii = 0"
   ]
  },
  {
   "cell_type": "code",
   "execution_count": 7,
   "metadata": {},
   "outputs": [],
   "source": [
    "df_sig = pd.DataFrame(sig)\n",
    "df_sig = df_sig.reset_index()\n",
    "df_sig.rename(columns={'index':'Tumor_Sample_Barcode'},inplace=True)\n",
    "\n",
    "\n",
    "sig_thres_act = sig.mean()+sig.std()\n",
    "sig_thres_unact = sig.mean()-sig.std()"
   ]
  },
  {
   "cell_type": "code",
   "execution_count": 8,
   "metadata": {},
   "outputs": [
    {
     "name": "stdout",
     "output_type": "stream",
     "text": [
      "Num Genes: 4877, Num variants: 93464\n"
     ]
    }
   ],
   "source": [
    "# only predict variants where we have signature data for\n",
    "for_test_train = DF_prob_map[DF_prob_map.Tumor_Sample_Barcode.isin(sig_Act.index)][['Hugo_Symbol','Tumor_Sample_Barcode','var_id']].drop_duplicates()\n",
    "\n",
    "print(\"Num Genes: %s, Num variants: %s\"%(len(for_test_train.Hugo_Symbol.unique()),len(for_test_train.var_id.unique())))"
   ]
  },
  {
   "cell_type": "code",
   "execution_count": 9,
   "metadata": {},
   "outputs": [
    {
     "name": "stdout",
     "output_type": "stream",
     "text": [
      "923 287\n"
     ]
    }
   ],
   "source": [
    "test_train_split = 0.8\n",
    "\n",
    "# get test/train data\n",
    "msk = np.random.rand(len(df_sig)) < test_train_split\n",
    "train = df_sig[msk]\n",
    "test = df_sig[~msk]\n",
    "\n",
    "print(len(train),len(test))"
   ]
  },
  {
   "cell_type": "code",
   "execution_count": 10,
   "metadata": {},
   "outputs": [
    {
     "name": "stdout",
     "output_type": "stream",
     "text": [
      "Num Genes in train: 4876, Num variants in train: 77302\n",
      "Num tumor samples in train: 850\n",
      "\n",
      "Num Genes in test: 4405, Num variants in test: 18229\n",
      "Num tumor samples in test: 259\n"
     ]
    }
   ],
   "source": [
    "# separate pre-computed probabilities for train/test sets\n",
    "\n",
    "train = for_test_train[for_test_train.Tumor_Sample_Barcode.isin(train.Tumor_Sample_Barcode)]\n",
    "test = for_test_train[for_test_train.Tumor_Sample_Barcode.isin(test.Tumor_Sample_Barcode)]\n",
    "\n",
    "test = test.sort_values('Tumor_Sample_Barcode',ascending=True)\n",
    "train = train.sort_values('Tumor_Sample_Barcode',ascending=True)\n",
    "\n",
    "print(\"Num Genes in train: %s, Num variants in train: %s\"%(len(train.Hugo_Symbol.unique()),len(train.var_id.unique())))\n",
    "print(\"Num tumor samples in train: %s\"%(len(train.Tumor_Sample_Barcode.unique())))\n",
    "print()\n",
    "      \n",
    "print(\"Num Genes in test: %s, Num variants in test: %s\"%(len(test.Hugo_Symbol.unique()),len(test.var_id.unique())))\n",
    "print(\"Num tumor samples in test: %s\"%(len(test.Tumor_Sample_Barcode.unique())))"
   ]
  },
  {
   "cell_type": "code",
   "execution_count": 11,
   "metadata": {},
   "outputs": [],
   "source": [
    "def get_cond_probability_from_subset(c,sig_Act):\n",
    "\n",
    "    N = len(sig_Act)-1\n",
    "\n",
    "    prob_c = pd.Series(c['act'].value_counts()/N, name = 'prob_c')\n",
    "    prob_Act = pd.Series(sig_Act.value_counts()/N, name = 'prob_Act')\n",
    "    joint_counts_Act_vs_c = pd.crosstab(sig_Act, c['act'])\n",
    "    joint_prob_Act_vs_c = joint_counts_Act_vs_c/N\n",
    "    cond_prob_Act_given_c = joint_prob_Act_vs_c.div(prob_c, axis='columns')\n",
    "\n",
    "\n",
    "    cond_prob_sum = np.mean(cond_prob_Act_given_c.sum(axis=0).values)\n",
    "\n",
    "    try:\n",
    "        cond_prob_1_1 = np.round(cond_prob_Act_given_c, decimals=3).values[1][1]\n",
    "        cond_prob_1_0 = np.round(cond_prob_Act_given_c, decimals=3).values[1][0]\n",
    "        cond_prob_0_0 = np.round(cond_prob_Act_given_c, decimals=3).values[0][0]\n",
    "        cond_prob_0_1 = np.round(cond_prob_Act_given_c, decimals=3).values[0][1]\n",
    "        \n",
    "    except IndexError:\n",
    "        pass\n",
    "\n",
    "    return(cond_prob_1_1)"
   ]
  },
  {
   "cell_type": "code",
   "execution_count": 13,
   "metadata": {},
   "outputs": [
    {
     "data": {
      "text/plain": [
       "[<matplotlib.lines.Line2D at 0x7ff860bb0710>]"
      ]
     },
     "execution_count": 13,
     "metadata": {},
     "output_type": "execute_result"
    },
    {
     "data": {
      "image/png": "[encoded data removed]",
      "text/plain": [
       "<Figure size 432x288 with 1 Axes>"
      ]
     },
     "metadata": {
      "needs_background": "light"
     },
     "output_type": "display_data"
    }
   ],
   "source": [
    "to_plot = pd.Series(np.round(DF_prob_map[(DF_prob_map.dist<20)].dist.values,decimals=0)).value_counts()\n",
    "\n",
    "to_plot = to_plot.sort_index()\n",
    "\n",
    "#to_plot = to_plot[to_plot>100]\n",
    "\n",
    "plt.plot(to_plot.index.tolist(),to_plot.values,'o')"
   ]
  },
  {
   "cell_type": "code",
   "execution_count": 14,
   "metadata": {},
   "outputs": [
    {
     "name": "stderr",
     "output_type": "stream",
     "text": [
      "No handles with labels found to put in legend.\n"
     ]
    },
    {
     "data": {
      "image/png": "[encoded data removed]",
      "text/plain": [
       "<Figure size 576x576 with 1 Axes>"
      ]
     },
     "metadata": {
      "needs_background": "light"
     },
     "output_type": "display_data"
    }
   ],
   "source": [
    "#from scipy.stats import gaussian_kde\n",
    "import matplotlib.pyplot as plt\n",
    "import numpy as np\n",
    "\n",
    "from scipy import interpolate\n",
    "\n",
    "from scipy import ndimage\n",
    "\n",
    "y= to_plot.values\n",
    "x = to_plot.index.tolist()\n",
    "\n",
    "# convert both to arrays\n",
    "x_sm = np.array(x)\n",
    "y_sm = np.array(y)\n",
    "\n",
    "# resample to lots more points - needed for the smoothed curves\n",
    "x_smooth = np.linspace(x_sm.min(), x_sm.max(), 200)\n",
    "\n",
    "# spline - always goes through all the data points x/y\n",
    "y_spline = interpolate.spline(x, y, x_smooth)\n",
    "\n",
    "spl = interpolate.UnivariateSpline(x, y)\n",
    "\n",
    "sigma = 2\n",
    "x_g1d = ndimage.gaussian_filter1d(x_sm, sigma)\n",
    "y_g1d = ndimage.gaussian_filter1d(y_sm, sigma)\n",
    "\n",
    "fig, ax = plt.subplots(figsize=(8, 8))\n",
    "ax.legend(loc='center left', bbox_to_anchor=(1.05, 0.5), frameon=False)\n",
    "\n",
    "plt.plot(x_sm, y_sm, 'green', linewidth=2)\n",
    "plt.plot(x_smooth, y_spline, 'red', linewidth=2)\n",
    "plt.plot(x_smooth, spl(x_smooth), 'orange', linewidth=2)\n",
    "#plt.plot(x_g1d,y_g1d, 'magenta', linewidth=1)\n",
    "\n",
    "plt.show()"
   ]
  },
  {
   "cell_type": "code",
   "execution_count": 15,
   "metadata": {},
   "outputs": [
    {
     "name": "stdout",
     "output_type": "stream",
     "text": [
      "maxima:  [ 2.4120603   4.32160804 12.26130653 14.27135678 16.58291457 18.89447236]\n",
      "minima:  [ 1.40703518  2.91457286  5.42713568 12.56281407 14.77386935 17.38693467]\n"
     ]
    }
   ],
   "source": [
    "import numpy as np\n",
    "from scipy.signal import argrelextrema\n",
    "\n",
    "x = y_spline\n",
    "\n",
    "# for local maxima\n",
    "ind_max = argrelextrema(y_spline, np.greater)\n",
    "\n",
    "# for local minima\n",
    "ind_min = argrelextrema(y_spline, np.less)\n",
    "\n",
    "local_max = x_smooth[ind_max]\n",
    "print(\"maxima: \",local_max)\n",
    "\n",
    "local_min = x_smooth[ind_min]\n",
    "print(\"minima: \",local_min)"
   ]
  },
  {
   "cell_type": "code",
   "execution_count": 16,
   "metadata": {},
   "outputs": [],
   "source": [
    "def get_naive_bayes_probability(c,sig_Act):\n",
    "\n",
    "    N = len(sig_Act)-1\n",
    "\n",
    "    prob_c = pd.Series(c['act'].value_counts()/N, name = 'prob_c')\n",
    "    prob_Act = pd.Series(sig_Act.value_counts()/N, name = 'prob_Act')\n",
    "    joint_counts_Act_vs_c = pd.crosstab(sig_Act, c['act'])\n",
    "    joint_prob_Act_vs_c = joint_counts_Act_vs_c/N\n",
    "    cond_prob_Act_given_c = joint_prob_Act_vs_c.div(prob_c, axis='columns')\n",
    "\n",
    "    cond_prob_sum = np.mean(cond_prob_Act_given_c.sum(axis=0).values)\n",
    "\n",
    "    try:\n",
    "        cond_prob_1_1 = np.round(cond_prob_Act_given_c, decimals=3).values[1][1]\n",
    "        #cond_prob_1_0 = np.round(cond_prob_Act_given_c, decimals=3).values[1][0]\n",
    "        #cond_prob_0_0 = np.round(cond_prob_Act_given_c, decimals=3).values[0][0]\n",
    "        cond_prob_0_1 = np.round(cond_prob_Act_given_c, decimals=3).values[0][1]\n",
    "        \n",
    "    except IndexError:\n",
    "        cond_prob_1_1 = np.nan\n",
    "        cond_prob_0_1 = np.nan\n",
    "        LOR = np.nan\n",
    "        \n",
    "    if pd.notnull(cond_prob_1_1) & pd.notnull(cond_prob_0_1):\n",
    "        nom = np.true_divide(cond_prob_1_1,cond_prob_0_1)\n",
    "        denom = np.true_divide(prob_Act.values[1],prob_Act[0])\n",
    "        \n",
    "        LOR = np.log(np.true_divide(nom,denom))\n",
    "        \n",
    "\n",
    "    return(LOR)"
   ]
  },
  {
   "cell_type": "code",
   "execution_count": null,
   "metadata": {},
   "outputs": [],
   "source": []
  }
 ],
 "metadata": {
  "kernelspec": {
   "display_name": "Python 3",
   "language": "python",
   "name": "python3"
  },
  "language_info": {
   "codemirror_mode": {
    "name": "ipython",
    "version": 3
   },
   "file_extension": ".py",
   "mimetype": "text/x-python",
   "name": "python",
   "nbconvert_exporter": "python",
   "pygments_lexer": "ipython3",
   "version": "3.7.7"
  }
 },
 "nbformat": 4,
 "nbformat_minor": 4
}
