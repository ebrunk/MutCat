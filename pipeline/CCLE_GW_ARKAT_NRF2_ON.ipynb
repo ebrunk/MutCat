{
 "cells": [
  {
   "cell_type": "code",
   "execution_count": 1,
   "metadata": {},
   "outputs": [
    {
     "data": {
      "text/html": [
       "\n",
       "<style>\n",
       "    div#notebook-container    { width: 95%; }\n",
       "    div#menubar-container     { width: 65%; }\n",
       "    div#maintoolbar-container { width: 99%; }\n",
       "</style>\n"
      ],
      "text/plain": [
       "<IPython.core.display.HTML object>"
      ]
     },
     "metadata": {},
     "output_type": "display_data"
    }
   ],
   "source": [
    "import pandas as pd\n",
    "pd.set_option('display.expand_frame_repr', False)\n",
    "pd.set_option('display.max_columns', 500)\n",
    "import numpy as np\n",
    "import os\n",
    "\n",
    "import seaborn as sns\n",
    "\n",
    "from scipy.cluster.hierarchy import dendrogram, linkage  \n",
    "from scipy.cluster.hierarchy import fcluster\n",
    "from scipy.cluster.hierarchy import cophenet\n",
    "from scipy.spatial.distance import pdist\n",
    "\n",
    "import py3Dmol\n",
    "from ipywidgets import interact, IntSlider\n",
    "\n",
    "\n",
    "import ast\n",
    "import math\n",
    "import random as random\n",
    "import copy\n",
    "np.random.seed(7678)\n",
    "from sklearn.metrics import auc, roc_curve\n",
    "\n",
    "import matplotlib.pyplot as plt\n",
    "from matplotlib import interactive\n",
    "interactive(True)\n",
    "import seaborn as sns\n",
    "sns.set(style=\"whitegrid\")\n",
    "\n",
    "from IPython.display import clear_output\n",
    "from IPython.display import display, HTML\n",
    "\n",
    "display(HTML(data=\"\"\"\n",
    "<style>\n",
    "    div#notebook-container    { width: 95%; }\n",
    "    div#menubar-container     { width: 65%; }\n",
    "    div#maintoolbar-container { width: 99%; }\n",
    "</style>\n",
    "\"\"\"))"
   ]
  },
  {
   "cell_type": "code",
   "execution_count": 2,
   "metadata": {},
   "outputs": [
    {
     "name": "stderr",
     "output_type": "stream",
     "text": [
      "/home/ebc/anaconda3/envs/MutCat/lib/python3.7/site-packages/IPython/core/interactiveshell.py:3063: DtypeWarning: Columns (5) have mixed types. Specify dtype option on import or set low_memory=False.\n",
      "  interactivity=interactivity, compiler=compiler, result=result)\n",
      "/home/ebc/anaconda3/envs/MutCat/lib/python3.7/site-packages/numpy/lib/arraysetops.py:522: FutureWarning: elementwise comparison failed; returning scalar instead, but in the future will perform elementwise comparison\n",
      "  mask |= (ar1 == a)\n"
     ]
    }
   ],
   "source": [
    "DF_CCLE = pd.read_csv('/media/ebc/F47A-25A8/PDBMap_Backup/CCLE/XYZ/GW_Full_Gene_XYZ.csv',index_col=0)"
   ]
  },
  {
   "cell_type": "code",
   "execution_count": 3,
   "metadata": {},
   "outputs": [
    {
     "data": {
      "text/plain": [
       "5518"
      ]
     },
     "execution_count": 3,
     "metadata": {},
     "output_type": "execute_result"
    }
   ],
   "source": [
    "len(DF_CCLE.Hugo_Symbol.unique())"
   ]
  },
  {
   "cell_type": "code",
   "execution_count": 6,
   "metadata": {},
   "outputs": [],
   "source": [
    "DF_clustering = pd.read_csv('/media/ebc/F47A-25A8/PDBMap_Backup/CCLE/clustering/DF_clustering_GW_merged_NRF2set.csv', index_col=0)\n"
   ]
  },
  {
   "cell_type": "code",
   "execution_count": 8,
   "metadata": {},
   "outputs": [
    {
     "data": {
      "text/html": [
       "<div>\n",
       "<style scoped>\n",
       "    .dataframe tbody tr th:only-of-type {\n",
       "        vertical-align: middle;\n",
       "    }\n",
       "\n",
       "    .dataframe tbody tr th {\n",
       "        vertical-align: top;\n",
       "    }\n",
       "\n",
       "    .dataframe thead th {\n",
       "        text-align: right;\n",
       "    }\n",
       "</style>\n",
       "<table border=\"1\" class=\"dataframe\">\n",
       "  <thead>\n",
       "    <tr style=\"text-align: right;\">\n",
       "      <th></th>\n",
       "      <th>idx1</th>\n",
       "      <th>idx2</th>\n",
       "      <th>dist</th>\n",
       "      <th>num_members</th>\n",
       "      <th>index_of_members</th>\n",
       "      <th>member_idx</th>\n",
       "      <th>group_member_idx</th>\n",
       "      <th>group_number</th>\n",
       "      <th>Tumor_Sample_Barcode</th>\n",
       "      <th>uniprotId</th>\n",
       "      <th>var_x</th>\n",
       "      <th>var_y</th>\n",
       "      <th>var_z</th>\n",
       "      <th>cluster_ID</th>\n",
       "      <th>Hugo_Symbol</th>\n",
       "      <th>structureChainId</th>\n",
       "      <th>ID</th>\n",
       "    </tr>\n",
       "  </thead>\n",
       "  <tbody>\n",
       "    <tr>\n",
       "      <th>0</th>\n",
       "      <td>4.0</td>\n",
       "      <td>5.0</td>\n",
       "      <td>0.0</td>\n",
       "      <td>2.0</td>\n",
       "      <td>[4, 5]</td>\n",
       "      <td>4</td>\n",
       "      <td>[4, 5]</td>\n",
       "      <td>281</td>\n",
       "      <td>UMUC5_URINARY_TRACT</td>\n",
       "      <td>P19623</td>\n",
       "      <td>36.415001</td>\n",
       "      <td>19.357</td>\n",
       "      <td>1.82</td>\n",
       "      <td>c_0_</td>\n",
       "      <td>SRM</td>\n",
       "      <td>2O06.A</td>\n",
       "      <td>SRM_2O06.A_c_0_</td>\n",
       "    </tr>\n",
       "    <tr>\n",
       "      <th>1</th>\n",
       "      <td>4.0</td>\n",
       "      <td>5.0</td>\n",
       "      <td>0.0</td>\n",
       "      <td>2.0</td>\n",
       "      <td>[4, 5]</td>\n",
       "      <td>5</td>\n",
       "      <td>[4, 5]</td>\n",
       "      <td>281</td>\n",
       "      <td>MFM223_BREAST</td>\n",
       "      <td>P19623</td>\n",
       "      <td>36.415001</td>\n",
       "      <td>19.357</td>\n",
       "      <td>1.82</td>\n",
       "      <td>c_0_</td>\n",
       "      <td>SRM</td>\n",
       "      <td>2O06.A</td>\n",
       "      <td>SRM_2O06.A_c_0_</td>\n",
       "    </tr>\n",
       "  </tbody>\n",
       "</table>\n",
       "</div>"
      ],
      "text/plain": [
       "   idx1  idx2  dist  num_members index_of_members  member_idx group_member_idx  group_number Tumor_Sample_Barcode uniprotId      var_x   var_y  var_z cluster_ID Hugo_Symbol structureChainId               ID\n",
       "0   4.0   5.0   0.0          2.0           [4, 5]           4           [4, 5]           281  UMUC5_URINARY_TRACT    P19623  36.415001  19.357   1.82       c_0_         SRM           2O06.A  SRM_2O06.A_c_0_\n",
       "1   4.0   5.0   0.0          2.0           [4, 5]           5           [4, 5]           281        MFM223_BREAST    P19623  36.415001  19.357   1.82       c_0_         SRM           2O06.A  SRM_2O06.A_c_0_"
      ]
     },
     "execution_count": 8,
     "metadata": {},
     "output_type": "execute_result"
    }
   ],
   "source": [
    "DF_clustering.head(2)"
   ]
  },
  {
   "cell_type": "code",
   "execution_count": 19,
   "metadata": {},
   "outputs": [],
   "source": [
    "path_phenotype = '/home/ebc/Arkat3/phenotypes/'\n",
    "file_name = 'ark_all_CCLE.csv'\n",
    "pathway_name = 'NRF2/PPP'\n"
   ]
  },
  {
   "cell_type": "code",
   "execution_count": 20,
   "metadata": {},
   "outputs": [
    {
     "name": "stdout",
     "output_type": "stream",
     "text": [
      "0    840\n",
      "1    168\n",
      "Name: Active_sample, dtype: int64\n"
     ]
    }
   ],
   "source": [
    "target = pd.read_csv(path_phenotype+file_name, index_col=0)\n",
    "\n",
    "sig = target.loc[pathway_name,:].sort_values(ascending = False)\n",
    "\n",
    "sig_mean = sig.mean()\n",
    "sig_std = sig.std()\n",
    "\n",
    "sig_Act = pd.Series(np.where(sig >= sig_mean + sig_std, 1, 0), \n",
    "                     index = sig.index, name='Active_sample')\n",
    "\n",
    "print(sig_Act.value_counts())"
   ]
  },
  {
   "cell_type": "markdown",
   "metadata": {},
   "source": [
    "## Compute Probabilities"
   ]
  },
  {
   "cell_type": "code",
   "execution_count": 24,
   "metadata": {},
   "outputs": [],
   "source": [
    "path_save = '/media/ebc/F47A-25A8/PDBMap_NRF2/CCLE/Arkat/Active/'"
   ]
  },
  {
   "cell_type": "code",
   "execution_count": 23,
   "metadata": {},
   "outputs": [],
   "source": [
    "def create_components_df(cell_list, cluster_list, df):\n",
    "    \n",
    "    cluster_components = pd.DataFrame(columns=cell_list)\n",
    "\n",
    "    for i in cluster_list:\n",
    "        \n",
    "        #clear_output(wait=True)\n",
    "        #print(cluster_list.index(i),\"out of\",len(cluster_list))\n",
    "\n",
    "        binary_list = []\n",
    "\n",
    "        tmp = df[df.ID==i].Tumor_Sample_Barcode.unique().tolist()\n",
    "\n",
    "        if len(tmp)>0:\n",
    "\n",
    "            for j in cluster_components.columns:\n",
    "                if j in tmp:\n",
    "                    binary_list.append(1)\n",
    "                else:\n",
    "                    binary_list.append(0)\n",
    "\n",
    "            cluster_components.at[i] = binary_list\n",
    "\n",
    "    #cluster_components = cluster_components.apply(pd.to_numeric)\n",
    "    return cluster_components  "
   ]
  },
  {
   "cell_type": "code",
   "execution_count": 26,
   "metadata": {},
   "outputs": [],
   "source": [
    "def get_probabilities_for_clusters(NRF2_Act, cluster_components, cluster):\n",
    "    \n",
    "    overlap = set(NRF2_Act.index).intersection(set(cluster_components.columns))\n",
    "    overlap = np.sort(list(overlap))\n",
    "    df = cluster_components.loc[:, overlap]\n",
    "    NRF2_Act = NRF2_Act.loc[overlap]\n",
    "    \n",
    "    N = len(overlap)\n",
    "    \n",
    "    P = pd.DataFrame()\n",
    "    \n",
    "    if( type(cluster)!= list):\n",
    "        cluster = [cluster]\n",
    "        \n",
    "    for feature in cluster:\n",
    "        \n",
    "        name = feature\n",
    "        \n",
    "        c = df.loc[feature,:]\n",
    "        \n",
    "        if len(c[c>0])>1:\n",
    "\n",
    "            #Marginal Probabilities \n",
    "\n",
    "            prob_c = pd.Series(c.value_counts()/N, name = 'prob_c')\n",
    "            sum_prob_c = prob_c.sum()\n",
    "\n",
    "            prob_Act = pd.Series(NRF2_Act.value_counts()/N, name = 'prob_Act')\n",
    "            sum_prob_Act = prob_Act.sum()\n",
    "\n",
    "            # Joint Probabilities\n",
    "\n",
    "            joint_counts_Act_vs_c = pd.crosstab(NRF2_Act, c)\n",
    "            joint_prob_Act_vs_c = joint_counts_Act_vs_c/N\n",
    "            joint_prob_sum = joint_prob_Act_vs_c.sum().sum()\n",
    "\n",
    "            Num_act_in_sample_set = joint_counts_Act_vs_c.values[1][1]\n",
    "            Num_unact_in_sample_set = joint_counts_Act_vs_c.values[0][1]\n",
    "\n",
    "            # Conditional Probability\n",
    "\n",
    "            cond_prob_Act_given_c = joint_prob_Act_vs_c.div(prob_c, axis='columns')\n",
    "            cond_prob_sum = np.mean(cond_prob_Act_given_c.sum(axis=0).values)\n",
    "\n",
    "            try:\n",
    "                cond_prob_1_1 = cond_prob_Act_given_c.values[1][1]\n",
    "                cond_prob_1_0 = cond_prob_Act_given_c.values[1][0]\n",
    "                cond_prob_0_0 = cond_prob_Act_given_c.values[0][0]\n",
    "                cond_prob_0_1 = cond_prob_Act_given_c.values[0][1]\n",
    "                \n",
    "                joint_prob_1_1 = joint_prob_Act_vs_c.values[1][1]\n",
    "                joint_prob_1_0 = joint_prob_Act_vs_c.values[1][0]\n",
    "                joint_prob_0_0 = joint_prob_Act_vs_c.values[0][0]\n",
    "                joint_prob_0_1 = joint_prob_Act_vs_c.values[0][1]\n",
    "        \n",
    "            except IndexError:\n",
    "                print(cluster,len(c[c>0]))\n",
    "                \n",
    "            \n",
    "            ## Odds Ratio and Risk Ratio\n",
    "            # RR = (a/(a+b))/(c/(c+d))  where a is 0,0 b is 0,1 c is 1,0 d is 1,1 on the joint counts cross table\n",
    "            \n",
    "            d = joint_counts_Act_vs_c.values[0][0]\n",
    "            b = joint_counts_Act_vs_c.values[0][1]\n",
    "            c = joint_counts_Act_vs_c.values[1][0]\n",
    "            a = joint_counts_Act_vs_c.values[1][1]\n",
    "            \n",
    "            RR = (a/(a+b))/(c/(c+d))\n",
    "            \n",
    "            odds = np.true_divide(a,c)\n",
    "            OR = np.true_divide(np.multiply(a+.5,d+.5),np.multiply(b+.5,c+.5))\n",
    "            LOR = np.log(OR)\n",
    "\n",
    "            #ci = exp(log(or) ± Zα/2­*√1/a + 1/b + 1/c + 1/d)\n",
    "            CI = 1.96*np.sqrt(np.true_divide(1,(a+.5))+np.true_divide(1,(b+.5))+np.true_divide(1,(c+.5))+np.true_divide(1,(d+.5)))\n",
    "            LogCI = np.log(CI)\n",
    "            \n",
    "            if RR == np.inf:\n",
    "                RR = 100\n",
    "            if OR == np.inf:\n",
    "                OR = 100\n",
    "            if LOR == np.inf:\n",
    "                LOR = 100\n",
    "            if RR == -np.inf:\n",
    "                RR = -100\n",
    "            if OR == -np.inf:\n",
    "                OR = -100\n",
    "            if LOR == -np.inf:\n",
    "                LOR = -100\n",
    "                \n",
    "\n",
    "\n",
    "            P = pd.concat ([P,pd.DataFrame([{'feature':name,'Num_act_in_sample_set':Num_act_in_sample_set,'Num_unact_in_sample_set':Num_unact_in_sample_set,'P(Act=1|c=1)':cond_prob_1_1,'P(Act=1|c=0)':cond_prob_1_0,'P(Act=0|c=1)':cond_prob_0_1,'P(Act=0|c=0)':cond_prob_0_0,'joint_11':joint_prob_1_1,'joint_01':joint_prob_0_1,'Risk_Ratio':RR,'Odds_Ratio':OR,'Log_Odds_Ratio':LOR,'CI_OR':CI,'Log_CI_OR':LogCI,'N':N,'prob_c':prob_c.values,'sum_prob_c':sum_prob_c,'prob_Act':prob_Act.values,'sum_prob_Act':sum_prob_Act,'joint_counts_Act_vs_c':np.round(joint_counts_Act_vs_c,decimals=3).values,'joint_prob_Act_vs_c':np.round(joint_prob_Act_vs_c,decimals=3).values,'sum_joint_prob':joint_prob_sum,'cond_prob_Act_given_c':np.round(cond_prob_Act_given_c, decimals=3).values,'sum_cond_prob':cond_prob_sum}])])\n",
    "            P = P[['feature','N','Num_act_in_sample_set','Num_unact_in_sample_set','P(Act=1|c=1)','P(Act=1|c=0)','P(Act=0|c=1)','P(Act=0|c=0)','joint_11','joint_01','Risk_Ratio','Odds_Ratio','Log_Odds_Ratio','CI_OR','Log_CI_OR','cond_prob_Act_given_c','joint_prob_Act_vs_c','joint_counts_Act_vs_c','prob_Act','prob_c','sum_cond_prob','sum_joint_prob','sum_prob_Act','sum_prob_c']]\n",
    "    \n",
    "        else:\n",
    "            pass\n",
    "        \n",
    "       \n",
    "    if( len(cluster)>1):\n",
    "        if len(P)>0:\n",
    "            \n",
    "            feature = P['feature'].tolist()\n",
    "            Num_act_in_sample_set = P['Num_act_in_sample_set'].sum()\n",
    "            Num_unact_in_sample_set = P['Num_unact_in_sample_set'].sum()\n",
    "            \n",
    "            ## P ( Act | c1,c2,c3...) = P(Act)*Prod(P(ci | Act))/ Prod(P(ci))\n",
    "            \n",
    "            cond_prob_1_1 = np.true_divide(np.prod(P['joint_11']),np.prod(P['prob_c'].values[0][1]))\n",
    "            cond_prob_0_1 = np.true_divide(np.prod(P['joint_01']),np.prod(P['prob_c'].values[0][1]))\n",
    "            \n",
    "            C = pd.DataFrame([{'feature':feature,'Num_act_in_sample_set':Num_act_in_sample_set,'Num_unact_in_sample_set':Num_unact_in_sample_set,'P(Act=1|c=1)':cond_prob_1_1,'P(Act=1|c=0)':cond_prob_1_0,}])\n",
    "            \n",
    "        \n",
    "        return P,C\n",
    "    \n",
    "    else:\n",
    "        return P\n"
   ]
  },
  {
   "cell_type": "code",
   "execution_count": 28,
   "metadata": {},
   "outputs": [
    {
     "name": "stdout",
     "output_type": "stream",
     "text": [
      "5407 out of 5408\n"
     ]
    }
   ],
   "source": [
    "# Gets conditional probability table across all genes\n",
    "\n",
    "cell_list = sig_Act.index.tolist()\n",
    "\n",
    "for gene in DF_clustering.Hugo_Symbol.unique():\n",
    "    \n",
    "    DF_prob = pd.DataFrame()\n",
    "    \n",
    "    clear_output(wait=True)\n",
    "    print(DF_clustering.Hugo_Symbol.unique().tolist().index(gene),\"out of\",len(DF_clustering.Hugo_Symbol.unique().tolist()))\n",
    "    \n",
    "    df = DF_clustering[DF_clustering.Hugo_Symbol==gene]\n",
    "    \n",
    "    cluster_list = df.ID.unique().tolist()\n",
    "    \n",
    "    cluster_components = create_components_df(cell_list, cluster_list, df)\n",
    "    \n",
    "    cluster_components.to_csv(path_save+'Cluster_Components/cluster_components_%s.csv'%gene)\n",
    "    \n",
    "    for cluster in df.ID.unique():\n",
    "    \n",
    "        tt = get_probabilities_for_clusters(sig_Act, cluster_components, cluster)\n",
    "        \n",
    "        if len(tt)>0:\n",
    "            DF_prob = pd.concat([DF_prob, tt])\n",
    "\n",
    "    DF_prob.to_csv(path_save+'Probabilities/DF_Prob_%s.csv'%gene)\n"
   ]
  },
  {
   "cell_type": "code",
   "execution_count": 30,
   "metadata": {},
   "outputs": [
    {
     "name": "stdout",
     "output_type": "stream",
     "text": [
      "5407 out of 5408\n"
     ]
    }
   ],
   "source": [
    "path_prob = path_save+'Probabilities/'\n",
    "entries_done = os.listdir(path_prob)\n",
    "entries_done = [i for i in entries_done if i.startswith('DF_Prob')]\n",
    "\n",
    "DF_Prob_Main = pd.DataFrame()\n",
    "\n",
    "for f in entries_done:\n",
    "    \n",
    "    clear_output(wait=True)\n",
    "    print(entries_done.index(f),\"out of\",len(entries_done))\n",
    "    \n",
    "    tmp = pd.read_csv(path_prob+f)\n",
    "    \n",
    "    try:\n",
    "        tmp['Num_samples'] = tmp.Num_act_in_sample_set+ tmp.Num_unact_in_sample_set\n",
    "        tmp = tmp[(tmp.Num_act_in_sample_set>2)|(tmp.Num_unact_in_sample_set>2)]\n",
    "        \n",
    "    except (KeyError,AttributeError):\n",
    "        tmp=pd.DataFrame()\n",
    "    \n",
    "    if len(tmp)>0:\n",
    "        DF_Prob_Main = pd.concat([DF_Prob_Main,tmp])\n",
    "    \n",
    "    "
   ]
  },
  {
   "cell_type": "code",
   "execution_count": 38,
   "metadata": {},
   "outputs": [],
   "source": [
    "DF_Prob_Main['Hugo_Symbol'] = [i.split('_')[0] for i in DF_Prob_Main.feature]"
   ]
  },
  {
   "cell_type": "code",
   "execution_count": 40,
   "metadata": {
    "scrolled": true
   },
   "outputs": [
    {
     "data": {
      "text/html": [
       "<div>\n",
       "<style scoped>\n",
       "    .dataframe tbody tr th:only-of-type {\n",
       "        vertical-align: middle;\n",
       "    }\n",
       "\n",
       "    .dataframe tbody tr th {\n",
       "        vertical-align: top;\n",
       "    }\n",
       "\n",
       "    .dataframe thead th {\n",
       "        text-align: right;\n",
       "    }\n",
       "</style>\n",
       "<table border=\"1\" class=\"dataframe\">\n",
       "  <thead>\n",
       "    <tr style=\"text-align: right;\">\n",
       "      <th></th>\n",
       "      <th>Hugo_Symbol</th>\n",
       "      <th>P(Act=1|c=1)</th>\n",
       "      <th>Num_act_in_sample_set</th>\n",
       "    </tr>\n",
       "  </thead>\n",
       "  <tbody>\n",
       "    <tr>\n",
       "      <th>218</th>\n",
       "      <td>AKR1C4</td>\n",
       "      <td>0.703704</td>\n",
       "      <td>19</td>\n",
       "    </tr>\n",
       "    <tr>\n",
       "      <th>143</th>\n",
       "      <td>AKR1C4</td>\n",
       "      <td>0.730769</td>\n",
       "      <td>19</td>\n",
       "    </tr>\n",
       "    <tr>\n",
       "      <th>68</th>\n",
       "      <td>AKR1C4</td>\n",
       "      <td>0.782609</td>\n",
       "      <td>18</td>\n",
       "    </tr>\n",
       "    <tr>\n",
       "      <th>203</th>\n",
       "      <td>AKR1C4</td>\n",
       "      <td>0.850000</td>\n",
       "      <td>17</td>\n",
       "    </tr>\n",
       "    <tr>\n",
       "      <th>200</th>\n",
       "      <td>AKR1C4</td>\n",
       "      <td>0.894737</td>\n",
       "      <td>17</td>\n",
       "    </tr>\n",
       "    <tr>\n",
       "      <th>63</th>\n",
       "      <td>AKR1C4</td>\n",
       "      <td>0.809524</td>\n",
       "      <td>17</td>\n",
       "    </tr>\n",
       "    <tr>\n",
       "      <th>49</th>\n",
       "      <td>AKR1C4</td>\n",
       "      <td>0.888889</td>\n",
       "      <td>16</td>\n",
       "    </tr>\n",
       "    <tr>\n",
       "      <th>40</th>\n",
       "      <td>AKR1C4</td>\n",
       "      <td>0.941176</td>\n",
       "      <td>16</td>\n",
       "    </tr>\n",
       "    <tr>\n",
       "      <th>21</th>\n",
       "      <td>AKR1C4</td>\n",
       "      <td>0.933333</td>\n",
       "      <td>14</td>\n",
       "    </tr>\n",
       "    <tr>\n",
       "      <th>1011</th>\n",
       "      <td>KEAP1</td>\n",
       "      <td>0.736842</td>\n",
       "      <td>14</td>\n",
       "    </tr>\n",
       "    <tr>\n",
       "      <th>126</th>\n",
       "      <td>AKR1C4</td>\n",
       "      <td>0.866667</td>\n",
       "      <td>13</td>\n",
       "    </tr>\n",
       "    <tr>\n",
       "      <th>20</th>\n",
       "      <td>AKR1C4</td>\n",
       "      <td>0.928571</td>\n",
       "      <td>13</td>\n",
       "    </tr>\n",
       "    <tr>\n",
       "      <th>500</th>\n",
       "      <td>KEAP1</td>\n",
       "      <td>0.722222</td>\n",
       "      <td>13</td>\n",
       "    </tr>\n",
       "    <tr>\n",
       "      <th>109</th>\n",
       "      <td>AKR1C4</td>\n",
       "      <td>0.923077</td>\n",
       "      <td>12</td>\n",
       "    </tr>\n",
       "    <tr>\n",
       "      <th>108</th>\n",
       "      <td>AKR1C4</td>\n",
       "      <td>0.916667</td>\n",
       "      <td>11</td>\n",
       "    </tr>\n",
       "    <tr>\n",
       "      <th>154</th>\n",
       "      <td>KEAP1</td>\n",
       "      <td>0.714286</td>\n",
       "      <td>10</td>\n",
       "    </tr>\n",
       "    <tr>\n",
       "      <th>165</th>\n",
       "      <td>AKR1C4</td>\n",
       "      <td>0.909091</td>\n",
       "      <td>10</td>\n",
       "    </tr>\n",
       "    <tr>\n",
       "      <th>1305</th>\n",
       "      <td>KEAP1</td>\n",
       "      <td>1.000000</td>\n",
       "      <td>10</td>\n",
       "    </tr>\n",
       "    <tr>\n",
       "      <th>1220</th>\n",
       "      <td>KEAP1</td>\n",
       "      <td>1.000000</td>\n",
       "      <td>9</td>\n",
       "    </tr>\n",
       "    <tr>\n",
       "      <th>16</th>\n",
       "      <td>AKR1C4</td>\n",
       "      <td>0.900000</td>\n",
       "      <td>9</td>\n",
       "    </tr>\n",
       "    <tr>\n",
       "      <th>1261</th>\n",
       "      <td>KEAP1</td>\n",
       "      <td>1.000000</td>\n",
       "      <td>8</td>\n",
       "    </tr>\n",
       "    <tr>\n",
       "      <th>31</th>\n",
       "      <td>AKR1C4</td>\n",
       "      <td>0.888889</td>\n",
       "      <td>8</td>\n",
       "    </tr>\n",
       "    <tr>\n",
       "      <th>162</th>\n",
       "      <td>AKR1C4</td>\n",
       "      <td>0.875000</td>\n",
       "      <td>7</td>\n",
       "    </tr>\n",
       "    <tr>\n",
       "      <th>141</th>\n",
       "      <td>KEAP1</td>\n",
       "      <td>1.000000</td>\n",
       "      <td>7</td>\n",
       "    </tr>\n",
       "    <tr>\n",
       "      <th>103</th>\n",
       "      <td>AKR1C4</td>\n",
       "      <td>0.857143</td>\n",
       "      <td>6</td>\n",
       "    </tr>\n",
       "    <tr>\n",
       "      <th>38</th>\n",
       "      <td>FOLR2</td>\n",
       "      <td>0.750000</td>\n",
       "      <td>6</td>\n",
       "    </tr>\n",
       "    <tr>\n",
       "      <th>534</th>\n",
       "      <td>UBA3</td>\n",
       "      <td>0.750000</td>\n",
       "      <td>6</td>\n",
       "    </tr>\n",
       "    <tr>\n",
       "      <th>207</th>\n",
       "      <td>AKR1C4</td>\n",
       "      <td>1.000000</td>\n",
       "      <td>6</td>\n",
       "    </tr>\n",
       "    <tr>\n",
       "      <th>1209</th>\n",
       "      <td>KEAP1</td>\n",
       "      <td>1.000000</td>\n",
       "      <td>6</td>\n",
       "    </tr>\n",
       "    <tr>\n",
       "      <th>749</th>\n",
       "      <td>KEAP1</td>\n",
       "      <td>0.857143</td>\n",
       "      <td>6</td>\n",
       "    </tr>\n",
       "    <tr>\n",
       "      <th>72</th>\n",
       "      <td>KEAP1</td>\n",
       "      <td>0.750000</td>\n",
       "      <td>6</td>\n",
       "    </tr>\n",
       "  </tbody>\n",
       "</table>\n",
       "</div>"
      ],
      "text/plain": [
       "     Hugo_Symbol  P(Act=1|c=1)  Num_act_in_sample_set\n",
       "218       AKR1C4      0.703704                     19\n",
       "143       AKR1C4      0.730769                     19\n",
       "68        AKR1C4      0.782609                     18\n",
       "203       AKR1C4      0.850000                     17\n",
       "200       AKR1C4      0.894737                     17\n",
       "63        AKR1C4      0.809524                     17\n",
       "49        AKR1C4      0.888889                     16\n",
       "40        AKR1C4      0.941176                     16\n",
       "21        AKR1C4      0.933333                     14\n",
       "1011       KEAP1      0.736842                     14\n",
       "126       AKR1C4      0.866667                     13\n",
       "20        AKR1C4      0.928571                     13\n",
       "500        KEAP1      0.722222                     13\n",
       "109       AKR1C4      0.923077                     12\n",
       "108       AKR1C4      0.916667                     11\n",
       "154        KEAP1      0.714286                     10\n",
       "165       AKR1C4      0.909091                     10\n",
       "1305       KEAP1      1.000000                     10\n",
       "1220       KEAP1      1.000000                      9\n",
       "16        AKR1C4      0.900000                      9\n",
       "1261       KEAP1      1.000000                      8\n",
       "31        AKR1C4      0.888889                      8\n",
       "162       AKR1C4      0.875000                      7\n",
       "141        KEAP1      1.000000                      7\n",
       "103       AKR1C4      0.857143                      6\n",
       "38         FOLR2      0.750000                      6\n",
       "534         UBA3      0.750000                      6\n",
       "207       AKR1C4      1.000000                      6\n",
       "1209       KEAP1      1.000000                      6\n",
       "749        KEAP1      0.857143                      6\n",
       "72         KEAP1      0.750000                      6"
      ]
     },
     "execution_count": 40,
     "metadata": {},
     "output_type": "execute_result"
    }
   ],
   "source": [
    "DF_Prob_Main[(DF_Prob_Main['P(Act=1|c=1)']>.7)&(DF_Prob_Main.Num_act_in_sample_set>5)].sort_values('Num_act_in_sample_set',ascending=False)[['Hugo_Symbol','P(Act=1|c=1)','Num_act_in_sample_set']].drop_duplicates()"
   ]
  },
  {
   "cell_type": "code",
   "execution_count": 41,
   "metadata": {},
   "outputs": [],
   "source": [
    "DF_Prob_Main_dist = pd.merge(DF_Prob_Main,DF_clustering[['dist','ID']].drop_duplicates(),right_on='ID',left_on='feature')"
   ]
  },
  {
   "cell_type": "code",
   "execution_count": 42,
   "metadata": {},
   "outputs": [],
   "source": [
    "DF_Prob_Main_dist.to_csv(path_save+'DF_Prob_Main_dist.csv')"
   ]
  },
  {
   "cell_type": "code",
   "execution_count": 60,
   "metadata": {},
   "outputs": [
    {
     "name": "stderr",
     "output_type": "stream",
     "text": [
      "/home/ebc/anaconda3/envs/MutCat/lib/python3.7/site-packages/ipykernel_launcher.py:30: DeprecationWarning: \n",
      ".ix is deprecated. Please use\n",
      ".loc for label based indexing or\n",
      ".iloc for positional indexing\n",
      "\n",
      "See the documentation here:\n",
      "http://pandas.pydata.org/pandas-docs/stable/indexing.html#ix-indexer-is-deprecated\n"
     ]
    }
   ],
   "source": [
    "DF_top_clusters_per_gene = pd.DataFrame()\n",
    "\n",
    "for i in DF_Prob_Main_dist.Hugo_Symbol.unique():\n",
    "    \n",
    "    tmp = DF_Prob_Main_dist[(DF_Prob_Main_dist['P(Act=1|c=1)']>.7)&(DF_Prob_Main_dist.Hugo_Symbol==i)&(DF_Prob_Main_dist.dist<12)].sort_values(['Num_act_in_sample_set','Risk_Ratio'],ascending=False)\n",
    "    \n",
    "    DF_top_clusters_per_gene = pd.concat([DF_top_clusters_per_gene,tmp.head(1)])\n",
    "    \n",
    "tt = []\n",
    "ss = []\n",
    "rr = []\n",
    "\n",
    "for i in DF_top_clusters_per_gene.feature.tolist():\n",
    "    \n",
    "    if i in DF_clustering.ID.tolist():\n",
    "        tmp = DF_clustering[DF_clustering.ID==i]\n",
    "        \n",
    "        list_samples = tmp.Tumor_Sample_Barcode.unique().tolist()\n",
    "        tt.append(len(list_samples))\n",
    "        ss.append(list_samples)\n",
    "    \n",
    "        \n",
    "DF_top_clusters_per_gene['Num_samples'] = tt\n",
    "DF_top_clusters_per_gene['Sample_ID'] = ss\n",
    "\n",
    "# normalize GSEA signature\n",
    "target = (sig - sig.mean())/(sig.std())\n",
    "\n",
    "for i in DF_top_clusters_per_gene.index:\n",
    "    ll = DF_top_clusters_per_gene.ix[i,'Sample_ID']\n",
    "        \n",
    "    qq=[]\n",
    "    for j in ll:\n",
    "        \n",
    "        try:\n",
    "            qq.append(target[j])\n",
    "        except KeyError:\n",
    "            pass\n",
    "    rr.append(qq)\n",
    "\n",
    "    \n",
    "DF_top_clusters_per_gene['Response_values'] = rr        \n",
    "    "
   ]
  },
  {
   "cell_type": "code",
   "execution_count": 61,
   "metadata": {
    "scrolled": true
   },
   "outputs": [
    {
     "data": {
      "text/html": [
       "<div>\n",
       "<style scoped>\n",
       "    .dataframe tbody tr th:only-of-type {\n",
       "        vertical-align: middle;\n",
       "    }\n",
       "\n",
       "    .dataframe tbody tr th {\n",
       "        vertical-align: top;\n",
       "    }\n",
       "\n",
       "    .dataframe thead th {\n",
       "        text-align: right;\n",
       "    }\n",
       "</style>\n",
       "<table border=\"1\" class=\"dataframe\">\n",
       "  <thead>\n",
       "    <tr style=\"text-align: right;\">\n",
       "      <th></th>\n",
       "      <th>Hugo_Symbol</th>\n",
       "      <th>P(Act=1|c=1)</th>\n",
       "      <th>Num_act_in_sample_set</th>\n",
       "    </tr>\n",
       "  </thead>\n",
       "  <tbody>\n",
       "    <tr>\n",
       "      <th>355493</th>\n",
       "      <td>AKR1C4</td>\n",
       "      <td>0.894737</td>\n",
       "      <td>17</td>\n",
       "    </tr>\n",
       "    <tr>\n",
       "      <th>143406</th>\n",
       "      <td>KEAP1</td>\n",
       "      <td>1.000000</td>\n",
       "      <td>8</td>\n",
       "    </tr>\n",
       "  </tbody>\n",
       "</table>\n",
       "</div>"
      ],
      "text/plain": [
       "       Hugo_Symbol  P(Act=1|c=1)  Num_act_in_sample_set\n",
       "355493      AKR1C4      0.894737                     17\n",
       "143406       KEAP1      1.000000                      8"
      ]
     },
     "execution_count": 61,
     "metadata": {},
     "output_type": "execute_result"
    }
   ],
   "source": [
    "DF_top_clusters_per_gene[(DF_top_clusters_per_gene['P(Act=1|c=1)']>.7)&(DF_top_clusters_per_gene.Num_act_in_sample_set>5)].sort_values('Num_act_in_sample_set',ascending=False)[['Hugo_Symbol','P(Act=1|c=1)','Num_act_in_sample_set']].drop_duplicates()"
   ]
  },
  {
   "cell_type": "code",
   "execution_count": 62,
   "metadata": {},
   "outputs": [],
   "source": [
    "DF_top_clusters_per_gene_plot = DF_top_clusters_per_gene[(DF_top_clusters_per_gene.dist<15)&(DF_top_clusters_per_gene.Num_act_in_sample_set>3)].sort_values(['Num_act_in_sample_set','Risk_Ratio'],ascending=False)[['Num_act_in_sample_set','Num_unact_in_sample_set','Hugo_Symbol','feature','P(Act=1|c=1)','dist','Num_samples','Odds_Ratio','Risk_Ratio','Log_Odds_Ratio','Log_CI_OR']].drop_duplicates()\n",
    "DF_top_clusters_per_gene_plot['Num_samples_with_data']=DF_top_clusters_per_gene_plot['Num_act_in_sample_set']+DF_top_clusters_per_gene_plot['Num_unact_in_sample_set']\n",
    "\n",
    "DF_top_clusters_per_gene_plot = pd.merge(DF_top_clusters_per_gene_plot,DF_top_clusters_per_gene[['feature','Response_values']])\n"
   ]
  },
  {
   "cell_type": "code",
   "execution_count": 67,
   "metadata": {
    "scrolled": true
   },
   "outputs": [
    {
     "data": {
      "text/plain": [
       "[None,\n",
       " None,\n",
       " None,\n",
       " None,\n",
       " None,\n",
       " None,\n",
       " None,\n",
       " None,\n",
       " None,\n",
       " None,\n",
       " None,\n",
       " None,\n",
       " None,\n",
       " None,\n",
       " None,\n",
       " None,\n",
       " None,\n",
       " None,\n",
       " None,\n",
       " None,\n",
       " None,\n",
       " None,\n",
       " None,\n",
       " None,\n",
       " None,\n",
       " None,\n",
       " None,\n",
       " None]"
      ]
     },
     "execution_count": 67,
     "metadata": {},
     "output_type": "execute_result"
    },
    {
     "data": {
      "image/png": "[encoded data removed]",
      "text/plain": [
       "<Figure size 288x144 with 1 Axes>"
      ]
     },
     "metadata": {
      "needs_background": "light"
     },
     "output_type": "display_data"
    }
   ],
   "source": [
    "tt = DF_top_clusters_per_gene_plot[['Hugo_Symbol','Log_CI_OR','Log_Odds_Ratio']].sort_values('Hugo_Symbol')\n",
    "\n",
    "size = (4,2)\n",
    "fig, ax = plt.subplots(figsize=size)\n",
    "ax.bar(tt['Hugo_Symbol'],tt['Log_Odds_Ratio'],yerr=tt['Log_CI_OR'])\n",
    "ax.tick_params(labelsize=15)\n",
    "ax.set_ylabel(\"Log Odds Ratio\",fontsize=20)\n",
    "fig = ax.get_figure()\n",
    "plt.setp(ax.get_xticklabels(), rotation=90)\n",
    "\n",
    "#fig.savefig('../analysis/NRF2/dataframes/all_NRF2_gene_set/CCLE_GW_NRF2_active_top_cluster_log_odds.pdf',format=\"PDF\")"
   ]
  },
  {
   "cell_type": "code",
   "execution_count": 69,
   "metadata": {},
   "outputs": [
    {
     "name": "stderr",
     "output_type": "stream",
     "text": [
      "/home/ebc/anaconda3/envs/MutCat/lib/python3.7/site-packages/ipykernel_launcher.py:4: DeprecationWarning: \n",
      ".ix is deprecated. Please use\n",
      ".loc for label based indexing or\n",
      ".iloc for positional indexing\n",
      "\n",
      "See the documentation here:\n",
      "http://pandas.pydata.org/pandas-docs/stable/indexing.html#ix-indexer-is-deprecated\n",
      "  after removing the cwd from sys.path.\n",
      "/home/ebc/anaconda3/envs/MutCat/lib/python3.7/site-packages/ipykernel_launcher.py:5: DeprecationWarning: \n",
      ".ix is deprecated. Please use\n",
      ".loc for label based indexing or\n",
      ".iloc for positional indexing\n",
      "\n",
      "See the documentation here:\n",
      "http://pandas.pydata.org/pandas-docs/stable/indexing.html#ix-indexer-is-deprecated\n",
      "  \"\"\"\n"
     ]
    }
   ],
   "source": [
    "ff = []\n",
    "\n",
    "for i in DF_top_clusters_per_gene_plot.index:\n",
    "    gene = DF_top_clusters_per_gene_plot.ix[i,'Hugo_Symbol']\n",
    "    ll = DF_top_clusters_per_gene_plot.ix[i,'Response_values']\n",
    "    \n",
    "    for j in ll:\n",
    "\n",
    "        ff.append({'Gene':gene,'Value':float(j)})\n",
    "\n",
    "        \n",
    "test = pd.DataFrame(ff)"
   ]
  },
  {
   "cell_type": "code",
   "execution_count": 71,
   "metadata": {},
   "outputs": [
    {
     "data": {
      "image/png": "[encoded data removed]",
      "text/plain": [
       "<Figure size 360x288 with 1 Axes>"
      ]
     },
     "metadata": {
      "needs_background": "light"
     },
     "output_type": "display_data"
    }
   ],
   "source": [
    "size = (5,4)\n",
    "fig, ax = plt.subplots(figsize=size)\n",
    "ax = sns.boxplot(x=\"Gene\", y=\"Value\", data=test.sort_values('Gene'), palette=[\"w\"],linewidth=2)\n",
    "ax = sns.swarmplot(x=\"Gene\", y=\"Value\", data=test.sort_values('Gene'), color=\".25\",size=5)\n",
    "ax.tick_params(labelsize=15)\n",
    "ax.set_xlabel(\"Gene\",fontsize=20)\n",
    "ax.set_ylabel(\"NRF2 Pathway Score\",fontsize=20)\n",
    "\n",
    "plt.setp(ax.get_xticklabels(), rotation=90)\n",
    "fig = ax.get_figure()\n",
    "#fig.savefig('../analysis/NRF2/dataframes/all_NRF2_gene_set/CCLE_GW_NRF2_active_top_cluster_boxplots.pdf',format=\"PDF\")"
   ]
  },
  {
   "cell_type": "code",
   "execution_count": 74,
   "metadata": {},
   "outputs": [
    {
     "data": {
      "text/plain": [
       "[[1.4317792169543306,\n",
       "  2.4423483453997585,\n",
       "  2.4423483453997585,\n",
       "  1.9134382069433962,\n",
       "  2.4423483453997585,\n",
       "  1.7156406784811797,\n",
       "  2.280251095779384,\n",
       "  2.4423483453997585]]"
      ]
     },
     "execution_count": 74,
     "metadata": {},
     "output_type": "execute_result"
    }
   ],
   "source": [
    "DF_top_clusters_per_gene[(DF_top_clusters_per_gene['P(Act=1|c=1)']>.7)&(DF_top_clusters_per_gene.Num_act_in_sample_set>5)&(DF_top_clusters_per_gene.Hugo_Symbol=='KEAP1')].sort_values('Num_act_in_sample_set',ascending=False).Response_values.tolist()"
   ]
  },
  {
   "cell_type": "code",
   "execution_count": 75,
   "metadata": {},
   "outputs": [
    {
     "data": {
      "text/plain": [
       "[['HUH7_LIVER',\n",
       "  'HUH1_LIVER',\n",
       "  'HCC15_LUNG',\n",
       "  'NCIH1648_LUNG',\n",
       "  'JHU028_LUNG',\n",
       "  'MOLT3_HAEMATOPOIETIC_AND_LYMPHOID_TISSUE',\n",
       "  'A549_LUNG',\n",
       "  'BEN_LUNG',\n",
       "  'DMS454_LUNG',\n",
       "  'RMUGS_OVARY']]"
      ]
     },
     "execution_count": 75,
     "metadata": {},
     "output_type": "execute_result"
    }
   ],
   "source": [
    "DF_top_clusters_per_gene[(DF_top_clusters_per_gene['P(Act=1|c=1)']>.7)&(DF_top_clusters_per_gene.Num_act_in_sample_set>5)&(DF_top_clusters_per_gene.Hugo_Symbol=='KEAP1')].sort_values('Num_act_in_sample_set',ascending=False).Sample_ID.tolist()"
   ]
  },
  {
   "cell_type": "code",
   "execution_count": null,
   "metadata": {},
   "outputs": [],
   "source": []
  }
 ],
 "metadata": {
  "kernelspec": {
   "display_name": "Python 3",
   "language": "python",
   "name": "python3"
  },
  "language_info": {
   "codemirror_mode": {
    "name": "ipython",
    "version": 3
   },
   "file_extension": ".py",
   "mimetype": "text/x-python",
   "name": "python",
   "nbconvert_exporter": "python",
   "pygments_lexer": "ipython3",
   "version": "3.7.7"
  }
 },
 "nbformat": 4,
 "nbformat_minor": 4
}
