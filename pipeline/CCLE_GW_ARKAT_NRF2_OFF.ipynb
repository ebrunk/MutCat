{
 "cells": [
  {
   "cell_type": "code",
   "execution_count": 1,
   "metadata": {},
   "outputs": [
    {
     "data": {
      "text/html": [
       "\n",
       "<style>\n",
       "    div#notebook-container    { width: 95%; }\n",
       "    div#menubar-container     { width: 65%; }\n",
       "    div#maintoolbar-container { width: 99%; }\n",
       "</style>\n"
      ],
      "text/plain": [
       "<IPython.core.display.HTML object>"
      ]
     },
     "metadata": {},
     "output_type": "display_data"
    }
   ],
   "source": [
    "import pandas as pd\n",
    "pd.set_option('display.expand_frame_repr', False)\n",
    "pd.set_option('display.max_columns', 500)\n",
    "import numpy as np\n",
    "import os\n",
    "\n",
    "import seaborn as sns\n",
    "\n",
    "from scipy.cluster.hierarchy import dendrogram, linkage  \n",
    "from scipy.cluster.hierarchy import fcluster\n",
    "from scipy.cluster.hierarchy import cophenet\n",
    "from scipy.spatial.distance import pdist\n",
    "\n",
    "import py3Dmol\n",
    "from ipywidgets import interact, IntSlider\n",
    "\n",
    "\n",
    "import ast\n",
    "import math\n",
    "import random as random\n",
    "import copy\n",
    "np.random.seed(7678)\n",
    "from sklearn.metrics import auc, roc_curve\n",
    "\n",
    "import matplotlib.pyplot as plt\n",
    "from matplotlib import interactive\n",
    "interactive(True)\n",
    "import seaborn as sns\n",
    "sns.set(style=\"whitegrid\")\n",
    "\n",
    "from IPython.display import clear_output\n",
    "from IPython.display import display, HTML\n",
    "\n",
    "display(HTML(data=\"\"\"\n",
    "<style>\n",
    "    div#notebook-container    { width: 95%; }\n",
    "    div#menubar-container     { width: 65%; }\n",
    "    div#maintoolbar-container { width: 99%; }\n",
    "</style>\n",
    "\"\"\"))"
   ]
  },
  {
   "cell_type": "code",
   "execution_count": 2,
   "metadata": {},
   "outputs": [
    {
     "name": "stderr",
     "output_type": "stream",
     "text": [
      "/home/ebc/anaconda3/envs/MutCat/lib/python3.7/site-packages/IPython/core/interactiveshell.py:3063: DtypeWarning: Columns (5) have mixed types. Specify dtype option on import or set low_memory=False.\n",
      "  interactivity=interactivity, compiler=compiler, result=result)\n",
      "/home/ebc/anaconda3/envs/MutCat/lib/python3.7/site-packages/numpy/lib/arraysetops.py:522: FutureWarning: elementwise comparison failed; returning scalar instead, but in the future will perform elementwise comparison\n",
      "  mask |= (ar1 == a)\n"
     ]
    }
   ],
   "source": [
    "DF_CCLE = pd.read_csv('/media/ebc/F47A-25A8/PDBMap_Backup/CCLE/XYZ/GW_Full_Gene_XYZ.csv',index_col=0)"
   ]
  },
  {
   "cell_type": "code",
   "execution_count": 3,
   "metadata": {},
   "outputs": [],
   "source": [
    "DF_clustering = pd.read_csv('/media/ebc/F47A-25A8/PDBMap_Backup/CCLE/clustering/DF_clustering_GW_merged_NRF2set.csv', index_col=0)\n"
   ]
  },
  {
   "cell_type": "code",
   "execution_count": 4,
   "metadata": {},
   "outputs": [],
   "source": [
    "path_phenotype = '/home/ebc/Arkat3/phenotypes/'\n",
    "file_name = 'ark_all_CCLE.csv'\n",
    "pathway_name = 'NRF2/PPP'\n"
   ]
  },
  {
   "cell_type": "code",
   "execution_count": 11,
   "metadata": {},
   "outputs": [
    {
     "name": "stdout",
     "output_type": "stream",
     "text": [
      "0    706\n",
      "1    302\n",
      "Name: InActive_sample, dtype: int64\n"
     ]
    }
   ],
   "source": [
    "target = pd.read_csv(path_phenotype+file_name, index_col=0)\n",
    "\n",
    "sig = target.loc[pathway_name,:].sort_values(ascending = False)\n",
    "\n",
    "sig_mean = sig.mean()\n",
    "sig_std = sig.std()\n",
    "\n",
    "sig_Act = pd.Series(np.where(sig < sig_mean - 0.85*sig_std, 1, 0), \n",
    "                     index = sig.index, name='InActive_sample')\n",
    "\n",
    "print(sig_Act.value_counts())"
   ]
  },
  {
   "cell_type": "markdown",
   "metadata": {},
   "source": [
    "## Compute Probabilities"
   ]
  },
  {
   "cell_type": "code",
   "execution_count": 13,
   "metadata": {},
   "outputs": [],
   "source": [
    "path_save = '/media/ebc/F47A-25A8/PDBMap_NRF2/CCLE/Arkat/OFF/'"
   ]
  },
  {
   "cell_type": "code",
   "execution_count": 14,
   "metadata": {},
   "outputs": [],
   "source": [
    "def create_components_df(cell_list, cluster_list, df):\n",
    "    \n",
    "    cluster_components = pd.DataFrame(columns=cell_list)\n",
    "\n",
    "    for i in cluster_list:\n",
    "        \n",
    "        #clear_output(wait=True)\n",
    "        #print(cluster_list.index(i),\"out of\",len(cluster_list))\n",
    "\n",
    "        binary_list = []\n",
    "\n",
    "        tmp = df[df.ID==i].Tumor_Sample_Barcode.unique().tolist()\n",
    "\n",
    "        if len(tmp)>0:\n",
    "\n",
    "            for j in cluster_components.columns:\n",
    "                if j in tmp:\n",
    "                    binary_list.append(1)\n",
    "                else:\n",
    "                    binary_list.append(0)\n",
    "\n",
    "            cluster_components.at[i] = binary_list\n",
    "\n",
    "    #cluster_components = cluster_components.apply(pd.to_numeric)\n",
    "    return cluster_components  "
   ]
  },
  {
   "cell_type": "code",
   "execution_count": 15,
   "metadata": {},
   "outputs": [],
   "source": [
    "def get_probabilities_for_clusters(NRF2_Act, cluster_components, cluster):\n",
    "    \n",
    "    overlap = set(NRF2_Act.index).intersection(set(cluster_components.columns))\n",
    "    overlap = np.sort(list(overlap))\n",
    "    df = cluster_components.loc[:, overlap]\n",
    "    NRF2_Act = NRF2_Act.loc[overlap]\n",
    "    \n",
    "    N = len(overlap)\n",
    "    \n",
    "    P = pd.DataFrame()\n",
    "    \n",
    "    if( type(cluster)!= list):\n",
    "        cluster = [cluster]\n",
    "        \n",
    "    for feature in cluster:\n",
    "        \n",
    "        name = feature\n",
    "        \n",
    "        c = df.loc[feature,:]\n",
    "        \n",
    "        if len(c[c>0])>1:\n",
    "\n",
    "            #Marginal Probabilities \n",
    "\n",
    "            prob_c = pd.Series(c.value_counts()/N, name = 'prob_c')\n",
    "            sum_prob_c = prob_c.sum()\n",
    "\n",
    "            prob_Act = pd.Series(NRF2_Act.value_counts()/N, name = 'prob_Act')\n",
    "            sum_prob_Act = prob_Act.sum()\n",
    "\n",
    "            # Joint Probabilities\n",
    "\n",
    "            joint_counts_Act_vs_c = pd.crosstab(NRF2_Act, c)\n",
    "            joint_prob_Act_vs_c = joint_counts_Act_vs_c/N\n",
    "            joint_prob_sum = joint_prob_Act_vs_c.sum().sum()\n",
    "\n",
    "            Num_act_in_sample_set = joint_counts_Act_vs_c.values[1][1]\n",
    "            Num_unact_in_sample_set = joint_counts_Act_vs_c.values[0][1]\n",
    "\n",
    "            # Conditional Probability\n",
    "\n",
    "            cond_prob_Act_given_c = joint_prob_Act_vs_c.div(prob_c, axis='columns')\n",
    "            cond_prob_sum = np.mean(cond_prob_Act_given_c.sum(axis=0).values)\n",
    "\n",
    "            try:\n",
    "                cond_prob_1_1 = cond_prob_Act_given_c.values[1][1]\n",
    "                cond_prob_1_0 = cond_prob_Act_given_c.values[1][0]\n",
    "                cond_prob_0_0 = cond_prob_Act_given_c.values[0][0]\n",
    "                cond_prob_0_1 = cond_prob_Act_given_c.values[0][1]\n",
    "                \n",
    "                joint_prob_1_1 = joint_prob_Act_vs_c.values[1][1]\n",
    "                joint_prob_1_0 = joint_prob_Act_vs_c.values[1][0]\n",
    "                joint_prob_0_0 = joint_prob_Act_vs_c.values[0][0]\n",
    "                joint_prob_0_1 = joint_prob_Act_vs_c.values[0][1]\n",
    "        \n",
    "            except IndexError:\n",
    "                print(cluster,len(c[c>0]))\n",
    "                \n",
    "            \n",
    "            ## Odds Ratio and Risk Ratio\n",
    "            # RR = (a/(a+b))/(c/(c+d))  where a is 0,0 b is 0,1 c is 1,0 d is 1,1 on the joint counts cross table\n",
    "            \n",
    "            d = joint_counts_Act_vs_c.values[0][0]\n",
    "            b = joint_counts_Act_vs_c.values[0][1]\n",
    "            c = joint_counts_Act_vs_c.values[1][0]\n",
    "            a = joint_counts_Act_vs_c.values[1][1]\n",
    "            \n",
    "            RR = (a/(a+b))/(c/(c+d))\n",
    "            \n",
    "            odds = np.true_divide(a,c)\n",
    "            OR = np.true_divide(np.multiply(a+.5,d+.5),np.multiply(b+.5,c+.5))\n",
    "            LOR = np.log(OR)\n",
    "\n",
    "            #ci = exp(log(or) ± Zα/2­*√1/a + 1/b + 1/c + 1/d)\n",
    "            CI = 1.96*np.sqrt(np.true_divide(1,(a+.5))+np.true_divide(1,(b+.5))+np.true_divide(1,(c+.5))+np.true_divide(1,(d+.5)))\n",
    "            LogCI = np.log(CI)\n",
    "            \n",
    "            if RR == np.inf:\n",
    "                RR = 100\n",
    "            if OR == np.inf:\n",
    "                OR = 100\n",
    "            if LOR == np.inf:\n",
    "                LOR = 100\n",
    "            if RR == -np.inf:\n",
    "                RR = -100\n",
    "            if OR == -np.inf:\n",
    "                OR = -100\n",
    "            if LOR == -np.inf:\n",
    "                LOR = -100\n",
    "                \n",
    "\n",
    "\n",
    "            P = pd.concat ([P,pd.DataFrame([{'feature':name,'Num_act_in_sample_set':Num_act_in_sample_set,'Num_unact_in_sample_set':Num_unact_in_sample_set,'P(Act=1|c=1)':cond_prob_1_1,'P(Act=1|c=0)':cond_prob_1_0,'P(Act=0|c=1)':cond_prob_0_1,'P(Act=0|c=0)':cond_prob_0_0,'joint_11':joint_prob_1_1,'joint_01':joint_prob_0_1,'Risk_Ratio':RR,'Odds_Ratio':OR,'Log_Odds_Ratio':LOR,'CI_OR':CI,'Log_CI_OR':LogCI,'N':N,'prob_c':prob_c.values,'sum_prob_c':sum_prob_c,'prob_Act':prob_Act.values,'sum_prob_Act':sum_prob_Act,'joint_counts_Act_vs_c':np.round(joint_counts_Act_vs_c,decimals=3).values,'joint_prob_Act_vs_c':np.round(joint_prob_Act_vs_c,decimals=3).values,'sum_joint_prob':joint_prob_sum,'cond_prob_Act_given_c':np.round(cond_prob_Act_given_c, decimals=3).values,'sum_cond_prob':cond_prob_sum}])])\n",
    "            P = P[['feature','N','Num_act_in_sample_set','Num_unact_in_sample_set','P(Act=1|c=1)','P(Act=1|c=0)','P(Act=0|c=1)','P(Act=0|c=0)','joint_11','joint_01','Risk_Ratio','Odds_Ratio','Log_Odds_Ratio','CI_OR','Log_CI_OR','cond_prob_Act_given_c','joint_prob_Act_vs_c','joint_counts_Act_vs_c','prob_Act','prob_c','sum_cond_prob','sum_joint_prob','sum_prob_Act','sum_prob_c']]\n",
    "    \n",
    "        else:\n",
    "            pass\n",
    "        \n",
    "       \n",
    "    if( len(cluster)>1):\n",
    "        if len(P)>0:\n",
    "            \n",
    "            feature = P['feature'].tolist()\n",
    "            Num_act_in_sample_set = P['Num_act_in_sample_set'].sum()\n",
    "            Num_unact_in_sample_set = P['Num_unact_in_sample_set'].sum()\n",
    "            \n",
    "            ## P ( Act | c1,c2,c3...) = P(Act)*Prod(P(ci | Act))/ Prod(P(ci))\n",
    "            \n",
    "            cond_prob_1_1 = np.true_divide(np.prod(P['joint_11']),np.prod(P['prob_c'].values[0][1]))\n",
    "            cond_prob_0_1 = np.true_divide(np.prod(P['joint_01']),np.prod(P['prob_c'].values[0][1]))\n",
    "            \n",
    "            C = pd.DataFrame([{'feature':feature,'Num_act_in_sample_set':Num_act_in_sample_set,'Num_unact_in_sample_set':Num_unact_in_sample_set,'P(Act=1|c=1)':cond_prob_1_1,'P(Act=1|c=0)':cond_prob_1_0,}])\n",
    "            \n",
    "        \n",
    "        return P,C\n",
    "    \n",
    "    else:\n",
    "        return P\n"
   ]
  },
  {
   "cell_type": "code",
   "execution_count": 19,
   "metadata": {},
   "outputs": [
    {
     "name": "stdout",
     "output_type": "stream",
     "text": [
      "5407 out of 5408\n"
     ]
    }
   ],
   "source": [
    "# Gets conditional probability table across all genes\n",
    "\n",
    "cell_list = sig_Act.index.tolist()\n",
    "\n",
    "for gene in DF_clustering.Hugo_Symbol.unique():\n",
    "    \n",
    "    DF_prob = pd.DataFrame()\n",
    "    \n",
    "    clear_output(wait=True)\n",
    "    print(DF_clustering.Hugo_Symbol.unique().tolist().index(gene),\"out of\",len(DF_clustering.Hugo_Symbol.unique().tolist()))\n",
    "    \n",
    "    df = DF_clustering[DF_clustering.Hugo_Symbol==gene]\n",
    "    \n",
    "    cluster_list = df.ID.unique().tolist()\n",
    "    \n",
    "    cluster_components = create_components_df(cell_list, cluster_list, df)\n",
    "    \n",
    "    cluster_components.to_csv(path_save+'Cluster_Components/cluster_components_%s.csv'%gene)\n",
    "    \n",
    "    for cluster in df.ID.unique():\n",
    "    \n",
    "        tt = get_probabilities_for_clusters(sig_Act, cluster_components, cluster)\n",
    "        \n",
    "        if len(tt)>0:\n",
    "            DF_prob = pd.concat([DF_prob, tt])\n",
    "\n",
    "    DF_prob.to_csv(path_save+'Probabilities/DF_Prob_%s.csv'%gene)\n"
   ]
  },
  {
   "cell_type": "code",
   "execution_count": 20,
   "metadata": {},
   "outputs": [
    {
     "name": "stdout",
     "output_type": "stream",
     "text": [
      "5407 out of 5408\n"
     ]
    }
   ],
   "source": [
    "path_prob = path_save+'Probabilities/'\n",
    "entries_done = os.listdir(path_prob)\n",
    "entries_done = [i for i in entries_done if i.startswith('DF_Prob')]\n",
    "\n",
    "DF_Prob_Main = pd.DataFrame()\n",
    "\n",
    "for f in entries_done:\n",
    "    \n",
    "    clear_output(wait=True)\n",
    "    print(entries_done.index(f),\"out of\",len(entries_done))\n",
    "    \n",
    "    tmp = pd.read_csv(path_prob+f)\n",
    "    \n",
    "    try:\n",
    "        tmp['Num_samples'] = tmp.Num_act_in_sample_set+ tmp.Num_unact_in_sample_set\n",
    "        tmp = tmp[(tmp.Num_act_in_sample_set>2)|(tmp.Num_unact_in_sample_set>2)]\n",
    "        \n",
    "    except (KeyError,AttributeError):\n",
    "        tmp=pd.DataFrame()\n",
    "    \n",
    "    if len(tmp)>0:\n",
    "        DF_Prob_Main = pd.concat([DF_Prob_Main,tmp])"
   ]
  },
  {
   "cell_type": "code",
   "execution_count": 21,
   "metadata": {},
   "outputs": [],
   "source": [
    "DF_Prob_Main['Hugo_Symbol'] = [i.split('_')[0] for i in DF_Prob_Main.feature]"
   ]
  },
  {
   "cell_type": "code",
   "execution_count": 22,
   "metadata": {
    "scrolled": true
   },
   "outputs": [
    {
     "data": {
      "text/html": [
       "<div>\n",
       "<style scoped>\n",
       "    .dataframe tbody tr th:only-of-type {\n",
       "        vertical-align: middle;\n",
       "    }\n",
       "\n",
       "    .dataframe tbody tr th {\n",
       "        vertical-align: top;\n",
       "    }\n",
       "\n",
       "    .dataframe thead th {\n",
       "        text-align: right;\n",
       "    }\n",
       "</style>\n",
       "<table border=\"1\" class=\"dataframe\">\n",
       "  <thead>\n",
       "    <tr style=\"text-align: right;\">\n",
       "      <th></th>\n",
       "      <th>Hugo_Symbol</th>\n",
       "      <th>P(Act=1|c=1)</th>\n",
       "      <th>Num_act_in_sample_set</th>\n",
       "    </tr>\n",
       "  </thead>\n",
       "  <tbody>\n",
       "    <tr>\n",
       "      <th>12</th>\n",
       "      <td>BRAF</td>\n",
       "      <td>0.727273</td>\n",
       "      <td>8</td>\n",
       "    </tr>\n",
       "    <tr>\n",
       "      <th>86</th>\n",
       "      <td>CA1</td>\n",
       "      <td>0.800000</td>\n",
       "      <td>8</td>\n",
       "    </tr>\n",
       "    <tr>\n",
       "      <th>37</th>\n",
       "      <td>RAB3IP</td>\n",
       "      <td>0.727273</td>\n",
       "      <td>8</td>\n",
       "    </tr>\n",
       "    <tr>\n",
       "      <th>67</th>\n",
       "      <td>CA1</td>\n",
       "      <td>0.888889</td>\n",
       "      <td>8</td>\n",
       "    </tr>\n",
       "    <tr>\n",
       "      <th>510</th>\n",
       "      <td>CA1</td>\n",
       "      <td>1.000000</td>\n",
       "      <td>8</td>\n",
       "    </tr>\n",
       "    <tr>\n",
       "      <th>529</th>\n",
       "      <td>CA1</td>\n",
       "      <td>0.727273</td>\n",
       "      <td>8</td>\n",
       "    </tr>\n",
       "    <tr>\n",
       "      <th>11</th>\n",
       "      <td>CDKL3</td>\n",
       "      <td>0.800000</td>\n",
       "      <td>8</td>\n",
       "    </tr>\n",
       "    <tr>\n",
       "      <th>457</th>\n",
       "      <td>CA1</td>\n",
       "      <td>0.777778</td>\n",
       "      <td>7</td>\n",
       "    </tr>\n",
       "    <tr>\n",
       "      <th>88</th>\n",
       "      <td>COMP</td>\n",
       "      <td>0.777778</td>\n",
       "      <td>7</td>\n",
       "    </tr>\n",
       "    <tr>\n",
       "      <th>74</th>\n",
       "      <td>RAB3IP</td>\n",
       "      <td>0.777778</td>\n",
       "      <td>7</td>\n",
       "    </tr>\n",
       "    <tr>\n",
       "      <th>166</th>\n",
       "      <td>NCAM2</td>\n",
       "      <td>0.777778</td>\n",
       "      <td>7</td>\n",
       "    </tr>\n",
       "    <tr>\n",
       "      <th>138</th>\n",
       "      <td>CA1</td>\n",
       "      <td>1.000000</td>\n",
       "      <td>6</td>\n",
       "    </tr>\n",
       "    <tr>\n",
       "      <th>7</th>\n",
       "      <td>CDKL3</td>\n",
       "      <td>0.857143</td>\n",
       "      <td>6</td>\n",
       "    </tr>\n",
       "    <tr>\n",
       "      <th>4</th>\n",
       "      <td>CDKL3</td>\n",
       "      <td>1.000000</td>\n",
       "      <td>6</td>\n",
       "    </tr>\n",
       "    <tr>\n",
       "      <th>27</th>\n",
       "      <td>IGF2R</td>\n",
       "      <td>1.000000</td>\n",
       "      <td>6</td>\n",
       "    </tr>\n",
       "    <tr>\n",
       "      <th>216</th>\n",
       "      <td>NCAM2</td>\n",
       "      <td>0.750000</td>\n",
       "      <td>6</td>\n",
       "    </tr>\n",
       "    <tr>\n",
       "      <th>74</th>\n",
       "      <td>WARS</td>\n",
       "      <td>0.750000</td>\n",
       "      <td>6</td>\n",
       "    </tr>\n",
       "    <tr>\n",
       "      <th>208</th>\n",
       "      <td>NCAM2</td>\n",
       "      <td>0.857143</td>\n",
       "      <td>6</td>\n",
       "    </tr>\n",
       "    <tr>\n",
       "      <th>92</th>\n",
       "      <td>GIF</td>\n",
       "      <td>0.857143</td>\n",
       "      <td>6</td>\n",
       "    </tr>\n",
       "    <tr>\n",
       "      <th>271</th>\n",
       "      <td>CA1</td>\n",
       "      <td>0.857143</td>\n",
       "      <td>6</td>\n",
       "    </tr>\n",
       "    <tr>\n",
       "      <th>79</th>\n",
       "      <td>ASRGL1</td>\n",
       "      <td>0.750000</td>\n",
       "      <td>6</td>\n",
       "    </tr>\n",
       "    <tr>\n",
       "      <th>103</th>\n",
       "      <td>SORT1</td>\n",
       "      <td>0.857143</td>\n",
       "      <td>6</td>\n",
       "    </tr>\n",
       "    <tr>\n",
       "      <th>262</th>\n",
       "      <td>PRKAA2</td>\n",
       "      <td>0.750000</td>\n",
       "      <td>6</td>\n",
       "    </tr>\n",
       "    <tr>\n",
       "      <th>232</th>\n",
       "      <td>RAB3IP</td>\n",
       "      <td>0.750000</td>\n",
       "      <td>6</td>\n",
       "    </tr>\n",
       "    <tr>\n",
       "      <th>231</th>\n",
       "      <td>RAB3IP</td>\n",
       "      <td>0.857143</td>\n",
       "      <td>6</td>\n",
       "    </tr>\n",
       "    <tr>\n",
       "      <th>19</th>\n",
       "      <td>GIF</td>\n",
       "      <td>0.750000</td>\n",
       "      <td>6</td>\n",
       "    </tr>\n",
       "    <tr>\n",
       "      <th>140</th>\n",
       "      <td>COMP</td>\n",
       "      <td>0.857143</td>\n",
       "      <td>6</td>\n",
       "    </tr>\n",
       "    <tr>\n",
       "      <th>132</th>\n",
       "      <td>COMP</td>\n",
       "      <td>1.000000</td>\n",
       "      <td>6</td>\n",
       "    </tr>\n",
       "    <tr>\n",
       "      <th>105</th>\n",
       "      <td>TTPA</td>\n",
       "      <td>0.857143</td>\n",
       "      <td>6</td>\n",
       "    </tr>\n",
       "  </tbody>\n",
       "</table>\n",
       "</div>"
      ],
      "text/plain": [
       "    Hugo_Symbol  P(Act=1|c=1)  Num_act_in_sample_set\n",
       "12         BRAF      0.727273                      8\n",
       "86          CA1      0.800000                      8\n",
       "37       RAB3IP      0.727273                      8\n",
       "67          CA1      0.888889                      8\n",
       "510         CA1      1.000000                      8\n",
       "529         CA1      0.727273                      8\n",
       "11        CDKL3      0.800000                      8\n",
       "457         CA1      0.777778                      7\n",
       "88         COMP      0.777778                      7\n",
       "74       RAB3IP      0.777778                      7\n",
       "166       NCAM2      0.777778                      7\n",
       "138         CA1      1.000000                      6\n",
       "7         CDKL3      0.857143                      6\n",
       "4         CDKL3      1.000000                      6\n",
       "27        IGF2R      1.000000                      6\n",
       "216       NCAM2      0.750000                      6\n",
       "74         WARS      0.750000                      6\n",
       "208       NCAM2      0.857143                      6\n",
       "92          GIF      0.857143                      6\n",
       "271         CA1      0.857143                      6\n",
       "79       ASRGL1      0.750000                      6\n",
       "103       SORT1      0.857143                      6\n",
       "262      PRKAA2      0.750000                      6\n",
       "232      RAB3IP      0.750000                      6\n",
       "231      RAB3IP      0.857143                      6\n",
       "19          GIF      0.750000                      6\n",
       "140        COMP      0.857143                      6\n",
       "132        COMP      1.000000                      6\n",
       "105        TTPA      0.857143                      6"
      ]
     },
     "execution_count": 22,
     "metadata": {},
     "output_type": "execute_result"
    }
   ],
   "source": [
    "DF_Prob_Main[(DF_Prob_Main['P(Act=1|c=1)']>.7)&(DF_Prob_Main.Num_act_in_sample_set>5)].sort_values('Num_act_in_sample_set',ascending=False)[['Hugo_Symbol','P(Act=1|c=1)','Num_act_in_sample_set']].drop_duplicates()"
   ]
  },
  {
   "cell_type": "code",
   "execution_count": 23,
   "metadata": {},
   "outputs": [],
   "source": [
    "DF_Prob_Main_dist = pd.merge(DF_Prob_Main,DF_clustering[['dist','ID']].drop_duplicates(),right_on='ID',left_on='feature')"
   ]
  },
  {
   "cell_type": "code",
   "execution_count": 24,
   "metadata": {},
   "outputs": [],
   "source": [
    "DF_Prob_Main_dist.to_csv(path_save+'DF_Prob_Main_dist.csv')"
   ]
  },
  {
   "cell_type": "code",
   "execution_count": 39,
   "metadata": {},
   "outputs": [
    {
     "name": "stderr",
     "output_type": "stream",
     "text": [
      "/home/ebc/anaconda3/envs/MutCat/lib/python3.7/site-packages/ipykernel_launcher.py:32: DeprecationWarning: \n",
      ".ix is deprecated. Please use\n",
      ".loc for label based indexing or\n",
      ".iloc for positional indexing\n",
      "\n",
      "See the documentation here:\n",
      "http://pandas.pydata.org/pandas-docs/stable/indexing.html#ix-indexer-is-deprecated\n"
     ]
    }
   ],
   "source": [
    "DF_top_clusters_per_gene = pd.DataFrame()\n",
    "\n",
    "for i in DF_Prob_Main_dist.Hugo_Symbol.unique():\n",
    "    \n",
    "    tmp = DF_Prob_Main_dist[(DF_Prob_Main_dist['P(Act=1|c=1)']>.7)&(DF_Prob_Main_dist.Hugo_Symbol==i)&(DF_Prob_Main_dist.dist<12)].sort_values(['Num_act_in_sample_set','Risk_Ratio'],ascending=False)\n",
    "    \n",
    "    DF_top_clusters_per_gene = pd.concat([DF_top_clusters_per_gene,tmp.head(1)])\n",
    "    \n",
    "tt = []\n",
    "ss = []\n",
    "rr = []\n",
    "\n",
    "for i in DF_top_clusters_per_gene.feature.tolist():\n",
    "    \n",
    "    if i in DF_clustering.ID.tolist():\n",
    "        \n",
    "        tmp = DF_clustering[DF_clustering.ID==i]\n",
    "        \n",
    "        list_samples = tmp.Tumor_Sample_Barcode.unique().tolist()\n",
    "        tt.append(len(list_samples))\n",
    "        ss.append(list_samples)\n",
    "    \n",
    "        \n",
    "DF_top_clusters_per_gene['Num_samples'] = tt\n",
    "DF_top_clusters_per_gene['Sample_ID'] = ss\n",
    "\n",
    "# normalize GSEA signature\n",
    "target = (sig - sig.mean())/(sig.std())\n",
    "\n",
    "for i in DF_top_clusters_per_gene.index:\n",
    "    \n",
    "    ll = DF_top_clusters_per_gene.ix[i,'Sample_ID']\n",
    "        \n",
    "    qq=[]\n",
    "    for j in ll:\n",
    "        \n",
    "        try:\n",
    "            qq.append(target[j])\n",
    "        except KeyError:\n",
    "            pass\n",
    "    rr.append(qq)\n",
    "\n",
    "    \n",
    "DF_top_clusters_per_gene['Response_values'] = rr        \n",
    "    "
   ]
  },
  {
   "cell_type": "code",
   "execution_count": 45,
   "metadata": {},
   "outputs": [],
   "source": [
    "DF_top_clusters_per_gene_plot = DF_top_clusters_per_gene[(DF_top_clusters_per_gene.dist<12)&(DF_top_clusters_per_gene.Num_act_in_sample_set>3)].sort_values(['Num_act_in_sample_set','Risk_Ratio'],ascending=False)[['Num_act_in_sample_set','Num_unact_in_sample_set','Hugo_Symbol','feature','P(Act=1|c=1)','dist','Num_samples','Odds_Ratio','Risk_Ratio','Log_Odds_Ratio','Log_CI_OR']].drop_duplicates()\n",
    "DF_top_clusters_per_gene_plot['Num_samples_with_data']=DF_top_clusters_per_gene_plot['Num_act_in_sample_set']+DF_top_clusters_per_gene_plot['Num_unact_in_sample_set']\n",
    "\n",
    "DF_top_clusters_per_gene_plot = pd.merge(DF_top_clusters_per_gene_plot,DF_top_clusters_per_gene[['feature','Response_values']])\n"
   ]
  },
  {
   "cell_type": "code",
   "execution_count": 46,
   "metadata": {
    "scrolled": true
   },
   "outputs": [
    {
     "data": {
      "text/plain": [
       "[None,\n",
       " None,\n",
       " None,\n",
       " None,\n",
       " None,\n",
       " None,\n",
       " None,\n",
       " None,\n",
       " None,\n",
       " None,\n",
       " None,\n",
       " None,\n",
       " None,\n",
       " None,\n",
       " None,\n",
       " None,\n",
       " None,\n",
       " None,\n",
       " None,\n",
       " None,\n",
       " None,\n",
       " None,\n",
       " None,\n",
       " None,\n",
       " None,\n",
       " None,\n",
       " None,\n",
       " None,\n",
       " None,\n",
       " None,\n",
       " None,\n",
       " None,\n",
       " None,\n",
       " None,\n",
       " None,\n",
       " None,\n",
       " None,\n",
       " None,\n",
       " None,\n",
       " None,\n",
       " None,\n",
       " None,\n",
       " None,\n",
       " None,\n",
       " None,\n",
       " None,\n",
       " None,\n",
       " None,\n",
       " None,\n",
       " None,\n",
       " None,\n",
       " None,\n",
       " None,\n",
       " None,\n",
       " None,\n",
       " None,\n",
       " None,\n",
       " None]"
      ]
     },
     "execution_count": 46,
     "metadata": {},
     "output_type": "execute_result"
    },
    {
     "data": {
      "image/png": "[encoded data removed]",
      "text/plain": [
       "<Figure size 576x144 with 1 Axes>"
      ]
     },
     "metadata": {
      "needs_background": "light"
     },
     "output_type": "display_data"
    }
   ],
   "source": [
    "tt = DF_top_clusters_per_gene_plot[['Hugo_Symbol','Log_CI_OR','Log_Odds_Ratio']].sort_values('Hugo_Symbol')\n",
    "\n",
    "size = (8,2)\n",
    "fig, ax = plt.subplots(figsize=size)\n",
    "ax.bar(tt['Hugo_Symbol'],tt['Log_Odds_Ratio'],yerr=tt['Log_CI_OR'])\n",
    "ax.tick_params(labelsize=15)\n",
    "ax.set_ylabel(\"Log Odds Ratio\",fontsize=20)\n",
    "fig = ax.get_figure()\n",
    "plt.setp(ax.get_xticklabels(), rotation=90)\n",
    "\n",
    "#fig.savefig('../analysis/NRF2/dataframes/all_NRF2_gene_set/CCLE_GW_NRF2_active_top_cluster_log_odds.pdf',format=\"PDF\")"
   ]
  },
  {
   "cell_type": "code",
   "execution_count": 47,
   "metadata": {},
   "outputs": [
    {
     "name": "stderr",
     "output_type": "stream",
     "text": [
      "/home/ebc/anaconda3/envs/MutCat/lib/python3.7/site-packages/ipykernel_launcher.py:4: DeprecationWarning: \n",
      ".ix is deprecated. Please use\n",
      ".loc for label based indexing or\n",
      ".iloc for positional indexing\n",
      "\n",
      "See the documentation here:\n",
      "http://pandas.pydata.org/pandas-docs/stable/indexing.html#ix-indexer-is-deprecated\n",
      "  after removing the cwd from sys.path.\n",
      "/home/ebc/anaconda3/envs/MutCat/lib/python3.7/site-packages/ipykernel_launcher.py:5: DeprecationWarning: \n",
      ".ix is deprecated. Please use\n",
      ".loc for label based indexing or\n",
      ".iloc for positional indexing\n",
      "\n",
      "See the documentation here:\n",
      "http://pandas.pydata.org/pandas-docs/stable/indexing.html#ix-indexer-is-deprecated\n",
      "  \"\"\"\n"
     ]
    }
   ],
   "source": [
    "ff = []\n",
    "\n",
    "for i in DF_top_clusters_per_gene_plot.index:\n",
    "    gene = DF_top_clusters_per_gene_plot.ix[i,'Hugo_Symbol']\n",
    "    ll = DF_top_clusters_per_gene_plot.ix[i,'Response_values']\n",
    "    \n",
    "    for j in ll:\n",
    "\n",
    "        ff.append({'Gene':gene,'Value':float(j)})\n",
    "\n",
    "        \n",
    "test = pd.DataFrame(ff)"
   ]
  },
  {
   "cell_type": "code",
   "execution_count": 48,
   "metadata": {},
   "outputs": [
    {
     "data": {
      "image/png": "[encoded data removed]",
      "text/plain": [
       "<Figure size 720x288 with 1 Axes>"
      ]
     },
     "metadata": {
      "needs_background": "light"
     },
     "output_type": "display_data"
    }
   ],
   "source": [
    "size = (10,4)\n",
    "fig, ax = plt.subplots(figsize=size)\n",
    "ax = sns.boxplot(x=\"Gene\", y=\"Value\", data=test.sort_values('Gene'), palette=[\"w\"],linewidth=2)\n",
    "ax = sns.swarmplot(x=\"Gene\", y=\"Value\", data=test.sort_values('Gene'), color=\".25\",size=5)\n",
    "ax.tick_params(labelsize=15)\n",
    "ax.set_xlabel(\"Gene\",fontsize=20)\n",
    "ax.set_ylabel(\"NRF2 Pathway Score\",fontsize=20)\n",
    "\n",
    "plt.setp(ax.get_xticklabels(), rotation=90)\n",
    "plt.ylim([-3,2])\n",
    "fig = ax.get_figure()\n",
    "#fig.savefig('../analysis/NRF2/dataframes/all_NRF2_gene_set/CCLE_GW_NRF2_active_top_cluster_boxplots.pdf',format=\"PDF\")"
   ]
  },
  {
   "cell_type": "code",
   "execution_count": 53,
   "metadata": {},
   "outputs": [
    {
     "data": {
      "text/plain": [
       "[[-0.855456999431296,\n",
       "  1.258584508522825,\n",
       "  -0.855456999431296,\n",
       "  -0.855456999431296,\n",
       "  2.103812054109663,\n",
       "  -0.855456999431296,\n",
       "  -0.855456999431296]]"
      ]
     },
     "execution_count": 53,
     "metadata": {},
     "output_type": "execute_result"
    }
   ],
   "source": [
    "DF_top_clusters_per_gene[(DF_top_clusters_per_gene['P(Act=1|c=1)']>.7)&(DF_top_clusters_per_gene.Num_act_in_sample_set>3)&(DF_top_clusters_per_gene.Hugo_Symbol=='HIST1H4G')].sort_values('Num_act_in_sample_set',ascending=False).Response_values.tolist()"
   ]
  },
  {
   "cell_type": "code",
   "execution_count": 54,
   "metadata": {},
   "outputs": [
    {
     "data": {
      "text/plain": [
       "[['NOMO1_HAEMATOPOIETIC_AND_LYMPHOID_TISSUE',\n",
       "  'KALS1_CENTRAL_NERVOUS_SYSTEM',\n",
       "  'IM95_STOMACH',\n",
       "  'OVSAHO_OVARY',\n",
       "  'CADOES1_BONE',\n",
       "  'JHH6_LIVER',\n",
       "  'EJM_HAEMATOPOIETIC_AND_LYMPHOID_TISSUE',\n",
       "  'HEC108_ENDOMETRIUM',\n",
       "  'SNUC5_LARGE_INTESTINE']]"
      ]
     },
     "execution_count": 54,
     "metadata": {},
     "output_type": "execute_result"
    }
   ],
   "source": [
    "DF_top_clusters_per_gene[(DF_top_clusters_per_gene['P(Act=1|c=1)']>.7)&(DF_top_clusters_per_gene.Num_act_in_sample_set>3)&(DF_top_clusters_per_gene.Hugo_Symbol=='HIST1H4G')].sort_values('Num_act_in_sample_set',ascending=False).Sample_ID.tolist()"
   ]
  },
  {
   "cell_type": "code",
   "execution_count": null,
   "metadata": {},
   "outputs": [],
   "source": []
  }
 ],
 "metadata": {
  "kernelspec": {
   "display_name": "Python 3",
   "language": "python",
   "name": "python3"
  },
  "language_info": {
   "codemirror_mode": {
    "name": "ipython",
    "version": 3
   },
   "file_extension": ".py",
   "mimetype": "text/x-python",
   "name": "python",
   "nbconvert_exporter": "python",
   "pygments_lexer": "ipython3",
   "version": "3.7.7"
  }
 },
 "nbformat": 4,
 "nbformat_minor": 4
}
