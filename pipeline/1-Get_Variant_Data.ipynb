{
 "cells": [
  {
   "cell_type": "markdown",
   "metadata": {},
   "source": [
    "# Read and Standardize Mutation Information\n",
    "This notebook reads a .csv or .tsv file with one mutation per line. This notebook is a template that you can modify for your specific use case.\n",
    "\n",
    "To prepare your data for subsequenct analysis, you need to:\n",
    "\n",
    "1. Read the file with your mutation information\n",
    "2. Create a column 'var_id' with the genomic location using the [HGVS sequence variant nomenclature](http://varnomen.hgvs.org/recommendations/general/), e.g. chr5:g.149440497C>T\n",
    "3. Filter out any variations that are not SNPs\n",
    "4. Save the file as 'mutations.csv'\n",
    "\n",
    "The mutations.csv file is the input for the next step: 2_Map-to-3D.ipynb"
   ]
  },
  {
   "cell_type": "code",
   "execution_count": 1,
   "metadata": {},
   "outputs": [],
   "source": [
    "import pandas as pd\n",
    "pd.set_option('display.expand_frame_repr', False)\n",
    "pd.set_option('display.max_columns', 500)\n",
    "import numpy as np\n",
    "import os\n",
    "\n",
    "import matplotlib.pyplot as plt\n",
    "from matplotlib import interactive\n",
    "interactive(True)\n",
    "\n",
    "import pandas as pd\n",
    "pd.set_option('display.max_columns', None)  # show all columns\n",
    "pd.set_option('display.max_columns', None)"
   ]
  },
  {
   "cell_type": "markdown",
   "metadata": {},
   "source": [
    "### Input Parameters"
   ]
  },
  {
   "cell_type": "raw",
   "metadata": {},
   "source": [
    "os.chdir('../data/CCLE/')\n",
    "!curl https://data.broadinstitute.org/ccle/CCLE_DepMap_18q3_maf_20180718.txt -o CCLE_DepMap_18q3_maf_20180718.txt"
   ]
  },
  {
   "cell_type": "code",
   "execution_count": 2,
   "metadata": {},
   "outputs": [],
   "source": [
    "input_file_name = \"../../../data/CCLE/CCLE_DepMap_18q3_maf_20180718.txt\"\n",
    "\n",
    "#input_file_name = <path to your input file> # mutation info (chromosome number and position required)\n",
    "\n",
    "output_file_name1 = '../analysis/NRF2_pathway/dataframes/step1/mutations_NRF2v2_step1.csv' # contains mutation info in standard format (e.g., chr5:g.149440497C>T)\n",
    "output_file_name2 = '../analysis/NRF2_pathway/dataframes/step1/mutations_NRF2v2_step1_detailed.csv' # contains depmap details of mutation file\n"
   ]
  },
  {
   "cell_type": "code",
   "execution_count": 3,
   "metadata": {},
   "outputs": [
    {
     "name": "stderr",
     "output_type": "stream",
     "text": [
      "/home/ebc/anaconda3/envs/omphalos/lib/python3.7/site-packages/IPython/core/interactiveshell.py:3049: DtypeWarning: Columns (3,25,26,27,30,31) have mixed types. Specify dtype option on import or set low_memory=False.\n",
      "  interactivity=interactivity, compiler=compiler, result=result)\n"
     ]
    },
    {
     "data": {
      "text/html": [
       "<div>\n",
       "<style scoped>\n",
       "    .dataframe tbody tr th:only-of-type {\n",
       "        vertical-align: middle;\n",
       "    }\n",
       "\n",
       "    .dataframe tbody tr th {\n",
       "        vertical-align: top;\n",
       "    }\n",
       "\n",
       "    .dataframe thead th {\n",
       "        text-align: right;\n",
       "    }\n",
       "</style>\n",
       "<table border=\"1\" class=\"dataframe\">\n",
       "  <thead>\n",
       "    <tr style=\"text-align: right;\">\n",
       "      <th></th>\n",
       "      <th>Hugo_Symbol</th>\n",
       "      <th>Entrez_Gene_Id</th>\n",
       "      <th>NCBI_Build</th>\n",
       "      <th>Chromosome</th>\n",
       "      <th>Start_position</th>\n",
       "      <th>End_position</th>\n",
       "      <th>Strand</th>\n",
       "      <th>Variant_Classification</th>\n",
       "      <th>Variant_Type</th>\n",
       "      <th>Reference_Allele</th>\n",
       "      <th>Tumor_Seq_Allele1</th>\n",
       "      <th>dbSNP_RS</th>\n",
       "      <th>dbSNP_Val_Status</th>\n",
       "      <th>Genome_Change</th>\n",
       "      <th>Annotation_Transcript</th>\n",
       "      <th>Tumor_Sample_Barcode</th>\n",
       "      <th>cDNA_Change</th>\n",
       "      <th>Codon_Change</th>\n",
       "      <th>Protein_Change</th>\n",
       "      <th>isDeleterious</th>\n",
       "      <th>isTCGAhotspot</th>\n",
       "      <th>TCGAhsCnt</th>\n",
       "      <th>isCOSMIChotspot</th>\n",
       "      <th>COSMIChsCnt</th>\n",
       "      <th>ExAC_AF</th>\n",
       "      <th>WES_AC</th>\n",
       "      <th>SangerWES_AC</th>\n",
       "      <th>SangerRecalibWES_AC</th>\n",
       "      <th>RNAseq_AC</th>\n",
       "      <th>HC_AC</th>\n",
       "      <th>RD_AC</th>\n",
       "      <th>WGS_AC</th>\n",
       "      <th>Broad_ID</th>\n",
       "    </tr>\n",
       "  </thead>\n",
       "  <tbody>\n",
       "    <tr>\n",
       "      <th>0</th>\n",
       "      <td>DVL1</td>\n",
       "      <td>1855</td>\n",
       "      <td>37</td>\n",
       "      <td>1</td>\n",
       "      <td>1277461</td>\n",
       "      <td>1277461</td>\n",
       "      <td>+</td>\n",
       "      <td>Silent</td>\n",
       "      <td>SNP</td>\n",
       "      <td>C</td>\n",
       "      <td>T</td>\n",
       "      <td>NaN</td>\n",
       "      <td>NaN</td>\n",
       "      <td>g.chr1:1277461C&gt;T</td>\n",
       "      <td>ENST00000378888.5</td>\n",
       "      <td>127399_SOFT_TISSUE</td>\n",
       "      <td>c.438G&gt;A</td>\n",
       "      <td>c.(436-438)gaG&gt;gaA</td>\n",
       "      <td>p.E146E</td>\n",
       "      <td>False</td>\n",
       "      <td>False</td>\n",
       "      <td>0</td>\n",
       "      <td>False</td>\n",
       "      <td>0</td>\n",
       "      <td>NaN</td>\n",
       "      <td>87:39</td>\n",
       "      <td>NaN</td>\n",
       "      <td>NaN</td>\n",
       "      <td>NaN</td>\n",
       "      <td>NaN</td>\n",
       "      <td>NaN</td>\n",
       "      <td>NaN</td>\n",
       "      <td>ACH-001270</td>\n",
       "    </tr>\n",
       "    <tr>\n",
       "      <th>1</th>\n",
       "      <td>AL590822.1</td>\n",
       "      <td>0</td>\n",
       "      <td>37</td>\n",
       "      <td>1</td>\n",
       "      <td>2144416</td>\n",
       "      <td>2144416</td>\n",
       "      <td>+</td>\n",
       "      <td>Missense_Mutation</td>\n",
       "      <td>SNP</td>\n",
       "      <td>G</td>\n",
       "      <td>A</td>\n",
       "      <td>NaN</td>\n",
       "      <td>NaN</td>\n",
       "      <td>g.chr1:2144416G&gt;A</td>\n",
       "      <td>ENST00000545087.1</td>\n",
       "      <td>127399_SOFT_TISSUE</td>\n",
       "      <td>c.604C&gt;T</td>\n",
       "      <td>c.(604-606)Cgc&gt;Tgc</td>\n",
       "      <td>p.R202C</td>\n",
       "      <td>False</td>\n",
       "      <td>False</td>\n",
       "      <td>0</td>\n",
       "      <td>False</td>\n",
       "      <td>0</td>\n",
       "      <td>NaN</td>\n",
       "      <td>23:43</td>\n",
       "      <td>NaN</td>\n",
       "      <td>NaN</td>\n",
       "      <td>NaN</td>\n",
       "      <td>NaN</td>\n",
       "      <td>NaN</td>\n",
       "      <td>NaN</td>\n",
       "      <td>ACH-001270</td>\n",
       "    </tr>\n",
       "  </tbody>\n",
       "</table>\n",
       "</div>"
      ],
      "text/plain": [
       "  Hugo_Symbol  Entrez_Gene_Id  NCBI_Build Chromosome  Start_position  End_position Strand Variant_Classification Variant_Type Reference_Allele Tumor_Seq_Allele1 dbSNP_RS dbSNP_Val_Status      Genome_Change Annotation_Transcript Tumor_Sample_Barcode cDNA_Change        Codon_Change Protein_Change  isDeleterious  isTCGAhotspot  TCGAhsCnt  isCOSMIChotspot  COSMIChsCnt  ExAC_AF WES_AC SangerWES_AC SangerRecalibWES_AC RNAseq_AC HC_AC RD_AC WGS_AC    Broad_ID\n",
       "0        DVL1            1855          37          1         1277461       1277461      +                 Silent          SNP                C                 T      NaN              NaN  g.chr1:1277461C>T     ENST00000378888.5   127399_SOFT_TISSUE    c.438G>A  c.(436-438)gaG>gaA        p.E146E          False          False          0            False            0      NaN  87:39          NaN                 NaN       NaN   NaN   NaN    NaN  ACH-001270\n",
       "1  AL590822.1               0          37          1         2144416       2144416      +      Missense_Mutation          SNP                G                 A      NaN              NaN  g.chr1:2144416G>A     ENST00000545087.1   127399_SOFT_TISSUE    c.604C>T  c.(604-606)Cgc>Tgc        p.R202C          False          False          0            False            0      NaN  23:43          NaN                 NaN       NaN   NaN   NaN    NaN  ACH-001270"
      ]
     },
     "execution_count": 3,
     "metadata": {},
     "output_type": "execute_result"
    }
   ],
   "source": [
    "depmap = pd.read_csv(input_file_name, header=0, sep='\\t')\n",
    "pd.options.display.max_columns = None # show all columns\n",
    "depmap.head(2)"
   ]
  },
  {
   "cell_type": "markdown",
   "metadata": {},
   "source": [
    "#### NRF2v2 gene set"
   ]
  },
  {
   "cell_type": "code",
   "execution_count": 4,
   "metadata": {},
   "outputs": [
    {
     "data": {
      "text/html": [
       "<div>\n",
       "<style scoped>\n",
       "    .dataframe tbody tr th:only-of-type {\n",
       "        vertical-align: middle;\n",
       "    }\n",
       "\n",
       "    .dataframe tbody tr th {\n",
       "        vertical-align: top;\n",
       "    }\n",
       "\n",
       "    .dataframe thead th {\n",
       "        text-align: right;\n",
       "    }\n",
       "</style>\n",
       "<table border=\"1\" class=\"dataframe\">\n",
       "  <thead>\n",
       "    <tr style=\"text-align: right;\">\n",
       "      <th></th>\n",
       "      <th>gene_name</th>\n",
       "    </tr>\n",
       "  </thead>\n",
       "  <tbody>\n",
       "    <tr>\n",
       "      <th>0</th>\n",
       "      <td>ABCB6</td>\n",
       "    </tr>\n",
       "    <tr>\n",
       "      <th>1</th>\n",
       "      <td>ABCC2</td>\n",
       "    </tr>\n",
       "  </tbody>\n",
       "</table>\n",
       "</div>"
      ],
      "text/plain": [
       "  gene_name\n",
       "0     ABCB6\n",
       "1     ABCC2"
      ]
     },
     "execution_count": 4,
     "metadata": {},
     "output_type": "execute_result"
    }
   ],
   "source": [
    "gene_set = pd.read_csv('../data/GSEA/NFE2L2.V2_gene_set.gmt',sep='\\t',header=None)\n",
    "\n",
    "gene_set = gene_set.T\n",
    "gene_set.columns=['gene_name']\n",
    "gene_set.head(2)"
   ]
  },
  {
   "cell_type": "code",
   "execution_count": 5,
   "metadata": {},
   "outputs": [
    {
     "data": {
      "text/plain": [
       "481"
      ]
     },
     "execution_count": 5,
     "metadata": {},
     "output_type": "execute_result"
    }
   ],
   "source": [
    "len(gene_set.gene_name)"
   ]
  },
  {
   "cell_type": "markdown",
   "metadata": {},
   "source": [
    "#### Genes with mutations associated with NRF2 pathway activation"
   ]
  },
  {
   "cell_type": "markdown",
   "metadata": {},
   "source": [
    "Note this is taken from match panel "
   ]
  },
  {
   "cell_type": "code",
   "execution_count": 7,
   "metadata": {},
   "outputs": [],
   "source": [
    "#nrf2_genes = ['AKR1B10','AKR1B15','AKR1C4','KEAP1','NFE2L2','NOX5','FOS','JUNB','MAFK','CUL3']\n",
    "genes = ['NFE2L2', 'KEAP1', 'CUL3', 'SIRT1', 'UCHL1', 'TRIM16L','AKR1C4',\n",
    "          'AKR1B10', 'AKR1C2', 'AKR1C3', 'G6PD', 'GCLC', 'GCLM', 'GSTM3', 'NTRK2',\n",
    "          'OSGIN1', 'RAB6B', 'SLC7A11', 'SPP1', 'SRXN1', 'TXNRD1', 'AKR1B15', 'NQO1', 'MAFG',\n",
    "          'NOX5','FOS','JUNB','MAFK']"
   ]
  },
  {
   "cell_type": "code",
   "execution_count": 12,
   "metadata": {},
   "outputs": [
    {
     "data": {
      "text/plain": [
       "28"
      ]
     },
     "execution_count": 12,
     "metadata": {},
     "output_type": "execute_result"
    }
   ],
   "source": [
    "len(genes)"
   ]
  },
  {
   "cell_type": "markdown",
   "metadata": {},
   "source": [
    "## Select Variants by Gene"
   ]
  },
  {
   "cell_type": "code",
   "execution_count": 8,
   "metadata": {},
   "outputs": [],
   "source": [
    "depmap = depmap[depmap.Hugo_Symbol.isin(genes)][['Hugo_Symbol','Entrez_Gene_Id','Variant_Classification','Genome_Change','Chromosome','Tumor_Sample_Barcode','Protein_Change','Reference_Allele','Tumor_Seq_Allele1']]\n",
    "depmap['ID'] = [depmap.loc[i]['Hugo_Symbol']+'_'+str(depmap.loc[i]['Protein_Change']) for i in depmap.index]"
   ]
  },
  {
   "cell_type": "markdown",
   "metadata": {},
   "source": [
    "#### put genome change in correct format\n",
    "(chr2:g.178098804C>T)"
   ]
  },
  {
   "cell_type": "code",
   "execution_count": 10,
   "metadata": {},
   "outputs": [],
   "source": [
    "depmap['var_id'] = ['chr'+str(depmap.loc[i]['Chromosome'])+':g.'+str(depmap.loc[i]['Genome_Change'].split(':')[1]) for i in depmap.index]                                                                     "
   ]
  },
  {
   "cell_type": "code",
   "execution_count": 11,
   "metadata": {},
   "outputs": [
    {
     "data": {
      "text/plain": [
       "1231"
      ]
     },
     "execution_count": 11,
     "metadata": {},
     "output_type": "execute_result"
    }
   ],
   "source": [
    "len(depmap.var_id.unique())"
   ]
  },
  {
   "cell_type": "code",
   "execution_count": 8,
   "metadata": {},
   "outputs": [],
   "source": [
    "DF_for_mapping = depmap[['Hugo_Symbol','Chromosome','Tumor_Seq_Allele1','Reference_Allele','var_id']].drop_duplicates()\n",
    "DF_for_mapping.columns = ['ID','#CHROM','ALT','REF','var_id']\n",
    "DF_for_mapping.to_csv(output_file_name1)"
   ]
  },
  {
   "cell_type": "code",
   "execution_count": 9,
   "metadata": {},
   "outputs": [],
   "source": [
    "depmap.to_csv(output_file_name2)"
   ]
  }
 ],
 "metadata": {
  "kernelspec": {
   "display_name": "Python 3",
   "language": "python",
   "name": "python3"
  },
  "language_info": {
   "codemirror_mode": {
    "name": "ipython",
    "version": 3
   },
   "file_extension": ".py",
   "mimetype": "text/x-python",
   "name": "python",
   "nbconvert_exporter": "python",
   "pygments_lexer": "ipython3",
   "version": "3.7.3"
  }
 },
 "nbformat": 4,
 "nbformat_minor": 2
}
